{
 "cells": [
  {
   "cell_type": "code",
   "execution_count": null,
   "metadata": {},
   "outputs": [],
   "source": [
    "from rdkit import Chem\n",
    "from rdkit.Chem import AllChem\n",
    "\n",
    "def get_ecfc(smiles_list, radius=2, nBits=2048, useCounts=True):\n",
    "    \"\"\"\n",
    "    Calculates the ECFP fingerprint for given SMILES list\n",
    "    \n",
    "    :param smiles_list: List of SMILES\n",
    "    :type smiles_list: list\n",
    "    :param radius: The ECPF fingerprints radius.\n",
    "    :type radius: int\n",
    "    :param nBits: The number of bits of the fingerprint vector.\n",
    "    :type nBits: int\n",
    "    :param useCounts: Use count vector or bit vector.\n",
    "    :type useCounts: bool\n",
    "    :returns: The calculated ECPF fingerprints for the given SMILES\n",
    "    :rtype: Dataframe\n",
    "    \"\"\"     \n",
    "    \n",
    "    ecfp_fingerprints=[]\n",
    "    erroneous_smiles=[]\n",
    "    for smiles in smiles_list:\n",
    "        mol=Chem.MolFromSmiles(smiles)\n",
    "        if mol is None:\n",
    "            ecfp_fingerprints.append([None]*nBits)\n",
    "            erroneous_smiles.append(smiles)\n",
    "        else:\n",
    "            mol=Chem.AddHs(mol)\n",
    "            if useCounts:\n",
    "                ecfp_fingerprints.append(list(AllChem.GetHashedMorganFingerprint(mol, radius, nBits)))  \n",
    "            else:    \n",
    "                ecfp_fingerprints.append(list(AllChem.GetMorganFingerprintAsBitVect(mol, radius, nBits).ToBitString()))  \n",
    "    \n",
    "    # Create dataframe of fingerprints\n",
    "    df_ecfp_fingerprints = pd.DataFrame(data = ecfp_fingerprints, index = smiles_list)\n",
    "    # Remove erroneous data\n",
    "    if len(erroneous_smiles)>0:\n",
    "        print(\"The following erroneous SMILES have been found in the data:\\n{}.\\nThe erroneous SMILES will be removed from the data.\".format('\\n'.join(map(str, erroneous_smiles))))           \n",
    "        df_ecfp_fingerprints = df_ecfp_fingerprints.dropna(how='any')    \n",
    "    \n",
    "    return df_ecfp_fingerprints"
   ]
  },
  {
   "cell_type": "code",
   "execution_count": 2,
   "metadata": {},
   "outputs": [],
   "source": [
    "from sklearn.model_selection import train_test_split\n",
    "import numpy as np \n",
    "import pandas as pd"
   ]
  },
  {
   "cell_type": "code",
   "execution_count": 3,
   "metadata": {},
   "outputs": [],
   "source": [
    "#Get and Arrange data\n",
    "import pandas as pd\n",
    "df_data= pd.read_csv('all_data.csv')\n",
    "\n",
    "train_data = df_data[df_data['data_type'] == 0]\n",
    "test1_data = df_data[df_data['data_type'] == 1]\n",
    "test2_data = df_data[df_data['data_type'] == 2]"
   ]
  },
  {
   "cell_type": "code",
   "execution_count": 4,
   "metadata": {},
   "outputs": [
    {
     "data": {
      "text/html": [
       "<div>\n",
       "<style scoped>\n",
       "    .dataframe tbody tr th:only-of-type {\n",
       "        vertical-align: middle;\n",
       "    }\n",
       "\n",
       "    .dataframe tbody tr th {\n",
       "        vertical-align: top;\n",
       "    }\n",
       "\n",
       "    .dataframe thead th {\n",
       "        text-align: right;\n",
       "    }\n",
       "</style>\n",
       "<table border=\"1\" class=\"dataframe\">\n",
       "  <thead>\n",
       "    <tr style=\"text-align: right;\">\n",
       "      <th></th>\n",
       "      <th>reaction_id</th>\n",
       "      <th>data_package_id</th>\n",
       "      <th>bond_type</th>\n",
       "      <th>functional_group_stoichiometry</th>\n",
       "      <th>reactant_smiles</th>\n",
       "      <th>product_smiles</th>\n",
       "      <th>reactant_inchiKey</th>\n",
       "      <th>product_inchiKey</th>\n",
       "      <th>reactant_solubility</th>\n",
       "      <th>product_solubility</th>\n",
       "      <th>...</th>\n",
       "      <th>product_single_point_job_id</th>\n",
       "      <th>reactant_optimization_job_id</th>\n",
       "      <th>product_optimization_job_id</th>\n",
       "      <th>UMAP-1</th>\n",
       "      <th>UMAP-2</th>\n",
       "      <th>data_type</th>\n",
       "      <th>reactantUFF</th>\n",
       "      <th>reactantMMFF</th>\n",
       "      <th>productUFF</th>\n",
       "      <th>productMMFF</th>\n",
       "    </tr>\n",
       "  </thead>\n",
       "  <tbody>\n",
       "    <tr>\n",
       "      <th>767</th>\n",
       "      <td>769</td>\n",
       "      <td>25</td>\n",
       "      <td>NH</td>\n",
       "      <td>OH</td>\n",
       "      <td>c1cccc(c12)cc(nn2)O</td>\n",
       "      <td>c1cccc(c12)C=C(O)NN2</td>\n",
       "      <td>CXUGAWWYKSOLEL-UHFFFAOYSA-N</td>\n",
       "      <td>BMBWSQWNXPSELG-UHFFFAOYSA-N</td>\n",
       "      <td>-2.080</td>\n",
       "      <td>-2.410</td>\n",
       "      <td>...</td>\n",
       "      <td>2965.0</td>\n",
       "      <td>2369.0</td>\n",
       "      <td>2964.0</td>\n",
       "      <td>21.961576</td>\n",
       "      <td>-2.257458</td>\n",
       "      <td>2</td>\n",
       "      <td>20.955169</td>\n",
       "      <td>18.343820</td>\n",
       "      <td>17.140645</td>\n",
       "      <td>19.530730</td>\n",
       "    </tr>\n",
       "    <tr>\n",
       "      <th>772</th>\n",
       "      <td>774</td>\n",
       "      <td>25</td>\n",
       "      <td>NH</td>\n",
       "      <td>OH</td>\n",
       "      <td>Oc1cccc(c12)cc(nn2)O</td>\n",
       "      <td>Oc1cccc(c12)C=C(O)NN2</td>\n",
       "      <td>BSAMMELAAJYOKU-UHFFFAOYSA-N</td>\n",
       "      <td>QXPSFNRPQZDOFI-UHFFFAOYSA-N</td>\n",
       "      <td>-2.173</td>\n",
       "      <td>-2.142</td>\n",
       "      <td>...</td>\n",
       "      <td>3339.0</td>\n",
       "      <td>2335.0</td>\n",
       "      <td>3338.0</td>\n",
       "      <td>22.153984</td>\n",
       "      <td>-2.141872</td>\n",
       "      <td>2</td>\n",
       "      <td>22.612127</td>\n",
       "      <td>27.933289</td>\n",
       "      <td>20.633665</td>\n",
       "      <td>23.125357</td>\n",
       "    </tr>\n",
       "    <tr>\n",
       "      <th>776</th>\n",
       "      <td>778</td>\n",
       "      <td>25</td>\n",
       "      <td>NH</td>\n",
       "      <td>OH</td>\n",
       "      <td>c1c(O)ccc(c12)cc(nn2)O</td>\n",
       "      <td>c1c(O)ccc(c12)C=C(O)NN2</td>\n",
       "      <td>CDYBFEZYDGWUIQ-UHFFFAOYSA-N</td>\n",
       "      <td>DGADYJIUSCQUEV-UHFFFAOYSA-N</td>\n",
       "      <td>-1.883</td>\n",
       "      <td>-2.219</td>\n",
       "      <td>...</td>\n",
       "      <td>3027.0</td>\n",
       "      <td>2343.0</td>\n",
       "      <td>3026.0</td>\n",
       "      <td>22.034029</td>\n",
       "      <td>-2.341485</td>\n",
       "      <td>2</td>\n",
       "      <td>21.586312</td>\n",
       "      <td>3.518582</td>\n",
       "      <td>17.767113</td>\n",
       "      <td>7.922284</td>\n",
       "    </tr>\n",
       "    <tr>\n",
       "      <th>779</th>\n",
       "      <td>781</td>\n",
       "      <td>25</td>\n",
       "      <td>NH</td>\n",
       "      <td>OH</td>\n",
       "      <td>c1cc(O)cc(c12)cc(nn2)O</td>\n",
       "      <td>c1cc(O)cc(c12)C=C(O)NN2</td>\n",
       "      <td>IOXNOKWEMRWDTL-UHFFFAOYSA-N</td>\n",
       "      <td>KBWVQLXFEXJWTQ-UHFFFAOYSA-N</td>\n",
       "      <td>-1.883</td>\n",
       "      <td>-2.234</td>\n",
       "      <td>...</td>\n",
       "      <td>3179.0</td>\n",
       "      <td>2488.0</td>\n",
       "      <td>3178.0</td>\n",
       "      <td>21.784317</td>\n",
       "      <td>-2.370045</td>\n",
       "      <td>2</td>\n",
       "      <td>21.587192</td>\n",
       "      <td>5.173647</td>\n",
       "      <td>18.301297</td>\n",
       "      <td>6.773585</td>\n",
       "    </tr>\n",
       "    <tr>\n",
       "      <th>781</th>\n",
       "      <td>783</td>\n",
       "      <td>25</td>\n",
       "      <td>NH</td>\n",
       "      <td>OH</td>\n",
       "      <td>c1ccc(O)c(c12)cc(nn2)O</td>\n",
       "      <td>c1ccc(O)c(c12)C=C(O)NN2</td>\n",
       "      <td>KNEPRHJALMLDNQ-UHFFFAOYSA-N</td>\n",
       "      <td>COWUWBQUYWRHNQ-UHFFFAOYSA-N</td>\n",
       "      <td>-2.112</td>\n",
       "      <td>-2.162</td>\n",
       "      <td>...</td>\n",
       "      <td>3001.0</td>\n",
       "      <td>2558.0</td>\n",
       "      <td>3000.0</td>\n",
       "      <td>22.319105</td>\n",
       "      <td>-2.678297</td>\n",
       "      <td>2</td>\n",
       "      <td>24.719301</td>\n",
       "      <td>11.516633</td>\n",
       "      <td>21.434299</td>\n",
       "      <td>18.428400</td>\n",
       "    </tr>\n",
       "  </tbody>\n",
       "</table>\n",
       "<p>5 rows × 46 columns</p>\n",
       "</div>"
      ],
      "text/plain": [
       "     reaction_id  data_package_id bond_type functional_group_stoichiometry  \\\n",
       "767          769               25        NH                             OH   \n",
       "772          774               25        NH                             OH   \n",
       "776          778               25        NH                             OH   \n",
       "779          781               25        NH                             OH   \n",
       "781          783               25        NH                             OH   \n",
       "\n",
       "            reactant_smiles           product_smiles  \\\n",
       "767     c1cccc(c12)cc(nn2)O     c1cccc(c12)C=C(O)NN2   \n",
       "772    Oc1cccc(c12)cc(nn2)O    Oc1cccc(c12)C=C(O)NN2   \n",
       "776  c1c(O)ccc(c12)cc(nn2)O  c1c(O)ccc(c12)C=C(O)NN2   \n",
       "779  c1cc(O)cc(c12)cc(nn2)O  c1cc(O)cc(c12)C=C(O)NN2   \n",
       "781  c1ccc(O)c(c12)cc(nn2)O  c1ccc(O)c(c12)C=C(O)NN2   \n",
       "\n",
       "               reactant_inchiKey             product_inchiKey  \\\n",
       "767  CXUGAWWYKSOLEL-UHFFFAOYSA-N  BMBWSQWNXPSELG-UHFFFAOYSA-N   \n",
       "772  BSAMMELAAJYOKU-UHFFFAOYSA-N  QXPSFNRPQZDOFI-UHFFFAOYSA-N   \n",
       "776  CDYBFEZYDGWUIQ-UHFFFAOYSA-N  DGADYJIUSCQUEV-UHFFFAOYSA-N   \n",
       "779  IOXNOKWEMRWDTL-UHFFFAOYSA-N  KBWVQLXFEXJWTQ-UHFFFAOYSA-N   \n",
       "781  KNEPRHJALMLDNQ-UHFFFAOYSA-N  COWUWBQUYWRHNQ-UHFFFAOYSA-N   \n",
       "\n",
       "     reactant_solubility  product_solubility  ...  \\\n",
       "767               -2.080              -2.410  ...   \n",
       "772               -2.173              -2.142  ...   \n",
       "776               -1.883              -2.219  ...   \n",
       "779               -1.883              -2.234  ...   \n",
       "781               -2.112              -2.162  ...   \n",
       "\n",
       "     product_single_point_job_id  reactant_optimization_job_id  \\\n",
       "767                       2965.0                        2369.0   \n",
       "772                       3339.0                        2335.0   \n",
       "776                       3027.0                        2343.0   \n",
       "779                       3179.0                        2488.0   \n",
       "781                       3001.0                        2558.0   \n",
       "\n",
       "     product_optimization_job_id     UMAP-1    UMAP-2  data_type  reactantUFF  \\\n",
       "767                       2964.0  21.961576 -2.257458          2    20.955169   \n",
       "772                       3338.0  22.153984 -2.141872          2    22.612127   \n",
       "776                       3026.0  22.034029 -2.341485          2    21.586312   \n",
       "779                       3178.0  21.784317 -2.370045          2    21.587192   \n",
       "781                       3000.0  22.319105 -2.678297          2    24.719301   \n",
       "\n",
       "     reactantMMFF  productUFF  productMMFF  \n",
       "767     18.343820   17.140645    19.530730  \n",
       "772     27.933289   20.633665    23.125357  \n",
       "776      3.518582   17.767113     7.922284  \n",
       "779      5.173647   18.301297     6.773585  \n",
       "781     11.516633   21.434299    18.428400  \n",
       "\n",
       "[5 rows x 46 columns]"
      ]
     },
     "execution_count": 4,
     "metadata": {},
     "output_type": "execute_result"
    }
   ],
   "source": [
    "test2_data.head()"
   ]
  },
  {
   "cell_type": "code",
   "execution_count": 5,
   "metadata": {},
   "outputs": [],
   "source": [
    "train_encoded = get_ecfc(train_data[\"reactant_smiles\"])\n",
    "test1_encoded = get_ecfc(test1_data[\"reactant_smiles\"])\n",
    "test2_encoded = get_ecfc(test2_data[\"reactant_smiles\"])"
   ]
  },
  {
   "cell_type": "code",
   "execution_count": null,
   "metadata": {},
   "outputs": [],
   "source": []
  },
  {
   "cell_type": "code",
   "execution_count": 1,
   "metadata": {},
   "outputs": [],
   "source": []
  },
  {
   "cell_type": "code",
   "execution_count": null,
   "metadata": {},
   "outputs": [],
   "source": []
  },
  {
   "cell_type": "code",
   "execution_count": 6,
   "metadata": {},
   "outputs": [],
   "source": [
    "# def modeling(train_data, test1_data, test2_data, encoder, model):  - After deciding the list of the smiles\n",
    "\n",
    "def modeling(train_encoded, test1_encoded, test2_encoded, model):\n",
    "    \n",
    "    from sklearn.metrics import r2_score, mean_absolute_error, mean_squared_error\n",
    "    import time\n",
    "    start_time = time.time()\n",
    "    \n",
    "    # Training\n",
    "    X = train_encoded\n",
    "    y = train_data['reaction_energy']\n",
    "    \n",
    "    model.fit(X.values, y)\n",
    "    \n",
    "    # Predicting\n",
    "    pred_train = model.predict(train_encoded.values)\n",
    "    pred_test1 = model.predict(test1_encoded.values)\n",
    "    pred_test2 = model.predict(test2_encoded.values)\n",
    "    \n",
    "    \n",
    "    # Scores of Train Data \n",
    "    tr_mae = mean_absolute_error(y, pred_train)\n",
    "    tr_rmse = mean_squared_error(y ,pred_train , squared=False)\n",
    "    tr_r2 = r2_score(y, pred_train)\n",
    "    print('##########################  Scores of Train Data  ##########################')\n",
    "    print('Train set MAE of {}: {:.3f}'.format(model, tr_mae))\n",
    "    print('Train set RMSE of {}: {:.3f}'.format(model, tr_rmse))\n",
    "    print('Train set R2 Score of {}: {:.3f}'.format(model, tr_r2))\n",
    "    \n",
    "    print(\"----------------------------------------------------------------------------\")\n",
    "    \n",
    "    # Test1 Data\n",
    "    test1_mae = mean_absolute_error(test1_data['reaction_energy'], pred_test1)\n",
    "    test1_rmse = mean_squared_error(test1_data['reaction_energy'], pred_test1, squared=False)\n",
    "    test1_r2 = r2_score(test1_data['reaction_energy'], pred_test1)\n",
    "    print('##########################  Scores of Test1 Data  ##########################')\n",
    "    print('Test1 set MAE of {}: {:.3f}'.format(model, test1_mae))\n",
    "    print('Test1 set RMSE of {}: {:.3f}'.format(model, test1_rmse))\n",
    "    print('Test1 set R2 Score of {}: {:.3f}'.format(model, test1_r2))\n",
    "    \n",
    "    print(\"----------------------------------------------------------------------------\")\n",
    "    \n",
    "    # Test2 Data\n",
    "    test2_mae = mean_absolute_error(test2_data['reaction_energy'], pred_test2)\n",
    "    test2_rmse = mean_squared_error(test2_data['reaction_energy'], pred_test2, squared=False)\n",
    "    test2_r2 = r2_score(test2_data['reaction_energy'], pred_test2)\n",
    "    print('##########################  Scores of Test2 Data  ##########################')\n",
    "    print('Test2 set MAE of {}: {:.3f}'.format(model, test2_mae))\n",
    "    print('Test2 set RMSE of {}: {:.3f}'.format(model, test2_rmse))\n",
    "    print('Test2 set R2 Score of {}: {:.3f}'.format(model, test2_r2))\n",
    "    \n",
    "    print(\"----------------------------------------------------------------------------\")\n",
    "\n",
    "    elapsed_time = time.time() - start_time\n",
    "    print('##########################  Details  ##########################')\n",
    "    print(f'{elapsed_time:.2f}s elapsed during modeling')"
   ]
  },
  {
   "cell_type": "code",
   "execution_count": null,
   "metadata": {},
   "outputs": [],
   "source": []
  },
  {
   "cell_type": "markdown",
   "metadata": {},
   "source": [
    "# INITIAL RUNNING"
   ]
  },
  {
   "cell_type": "code",
   "execution_count": null,
   "metadata": {},
   "outputs": [],
   "source": [
    "Initial Default Values: {'gamma': 0.0, 'learning_rate': 0.3, 'max_depth': 6, 'reg_alpha': 1.0, 'subsample': 1.0}"
   ]
  },
  {
   "cell_type": "code",
   "execution_count": 7,
   "metadata": {},
   "outputs": [
    {
     "name": "stdout",
     "output_type": "stream",
     "text": [
      "[13:04:05] WARNING: src/objective/regression_obj.cu:152: reg:linear is now deprecated in favor of reg:squarederror.\n",
      "##########################  Scores of Train Data  ##########################\n",
      "Train set MAE of XGBRegressor(random_state=1): 0.007\n",
      "Train set RMSE of XGBRegressor(random_state=1): 0.011\n",
      "Train set R2 Score of XGBRegressor(random_state=1): 0.925\n",
      "----------------------------------------------------------------------------\n",
      "##########################  Scores of Test1 Data  ##########################\n",
      "Test1 set MAE of XGBRegressor(random_state=1): 0.008\n",
      "Test1 set RMSE of XGBRegressor(random_state=1): 0.011\n",
      "Test1 set R2 Score of XGBRegressor(random_state=1): 0.923\n",
      "----------------------------------------------------------------------------\n",
      "##########################  Scores of Test2 Data  ##########################\n",
      "Test2 set MAE of XGBRegressor(random_state=1): 0.012\n",
      "Test2 set RMSE of XGBRegressor(random_state=1): 0.015\n",
      "Test2 set R2 Score of XGBRegressor(random_state=1): 0.709\n",
      "----------------------------------------------------------------------------\n",
      "##########################  Details  ##########################\n",
      "34.72s elapsed during modeling\n"
     ]
    }
   ],
   "source": [
    "import xgboost as xgb\n",
    "\n",
    "# Model\n",
    "model = xgb.XGBRegressor(random_state=1)\n",
    "\n",
    "# Training\n",
    "modeling(train_encoded=train_encoded, test1_encoded=test1_encoded, test2_encoded=test2_encoded, model=model)"
   ]
  },
  {
   "cell_type": "code",
   "execution_count": null,
   "metadata": {},
   "outputs": [],
   "source": [
    "INITIAL SCORES: 0.007\t0.011\t0.925\t\t0.008\t0.011\t0.923\t\t0.012\t0.015\t0.709"
   ]
  },
  {
   "cell_type": "code",
   "execution_count": null,
   "metadata": {},
   "outputs": [],
   "source": []
  },
  {
   "cell_type": "markdown",
   "metadata": {},
   "source": [
    "# BEST SCORES"
   ]
  },
  {
   "cell_type": "code",
   "execution_count": null,
   "metadata": {},
   "outputs": [],
   "source": []
  },
  {
   "cell_type": "code",
   "execution_count": null,
   "metadata": {},
   "outputs": [],
   "source": []
  },
  {
   "cell_type": "markdown",
   "metadata": {},
   "source": [
    "# Experiment 1"
   ]
  },
  {
   "cell_type": "code",
   "execution_count": null,
   "metadata": {},
   "outputs": [],
   "source": [
    "Best: 0.937047 using {'gamma': 0.0, 'learning_rate': 0.05, 'max_depth': 7, 'reg_alpha': 1.0, 'subsample': 1.0}"
   ]
  },
  {
   "cell_type": "code",
   "execution_count": 7,
   "metadata": {},
   "outputs": [
    {
     "name": "stdout",
     "output_type": "stream",
     "text": [
      "[09:07:01] WARNING: src/objective/regression_obj.cu:152: reg:linear is now deprecated in favor of reg:squarederror.\n",
      "##########################  Scores of Train Data  ##########################\n",
      "Train set MAE of XGBRegressor(gamma=0.0, learning_rate=0.05, max_depth=7, random_state=1,\n",
      "             reg_alpha=1.0, subsample=1.0): 0.008\n",
      "Train set RMSE of XGBRegressor(gamma=0.0, learning_rate=0.05, max_depth=7, random_state=1,\n",
      "             reg_alpha=1.0, subsample=1.0): 0.012\n",
      "Train set R2 Score of XGBRegressor(gamma=0.0, learning_rate=0.05, max_depth=7, random_state=1,\n",
      "             reg_alpha=1.0, subsample=1.0): 0.916\n",
      "----------------------------------------------------------------------------\n",
      "##########################  Scores of Test1 Data  ##########################\n",
      "Test1 set MAE of XGBRegressor(gamma=0.0, learning_rate=0.05, max_depth=7, random_state=1,\n",
      "             reg_alpha=1.0, subsample=1.0): 0.009\n",
      "Test1 set RMSE of XGBRegressor(gamma=0.0, learning_rate=0.05, max_depth=7, random_state=1,\n",
      "             reg_alpha=1.0, subsample=1.0): 0.012\n",
      "Test1 set R2 Score of XGBRegressor(gamma=0.0, learning_rate=0.05, max_depth=7, random_state=1,\n",
      "             reg_alpha=1.0, subsample=1.0): 0.909\n",
      "----------------------------------------------------------------------------\n",
      "##########################  Scores of Test2 Data  ##########################\n",
      "Test2 set MAE of XGBRegressor(gamma=0.0, learning_rate=0.05, max_depth=7, random_state=1,\n",
      "             reg_alpha=1.0, subsample=1.0): 0.010\n",
      "Test2 set RMSE of XGBRegressor(gamma=0.0, learning_rate=0.05, max_depth=7, random_state=1,\n",
      "             reg_alpha=1.0, subsample=1.0): 0.013\n",
      "Test2 set R2 Score of XGBRegressor(gamma=0.0, learning_rate=0.05, max_depth=7, random_state=1,\n",
      "             reg_alpha=1.0, subsample=1.0): 0.801\n",
      "----------------------------------------------------------------------------\n",
      "##########################  Details  ##########################\n",
      "62.76s elapsed during modeling\n"
     ]
    }
   ],
   "source": [
    "import xgboost as xgb\n",
    "\n",
    "# Model\n",
    "model = xgb.XGBRegressor(random_state=1, gamma=0.0, learning_rate=0.05, max_depth=7, reg_alpha=1.0, subsample=1.0)\n",
    "\n",
    "# Training\n",
    "modeling(train_encoded=train_encoded, test1_encoded=test1_encoded, test2_encoded=test2_encoded, model=model)"
   ]
  },
  {
   "cell_type": "code",
   "execution_count": null,
   "metadata": {},
   "outputs": [],
   "source": [
    "INITIAL SCORES: 0.007\t0.011\t0.925\t\t0.008\t0.011\t0.923\t\t0.012\t0.015\t0.709"
   ]
  },
  {
   "cell_type": "code",
   "execution_count": null,
   "metadata": {},
   "outputs": [],
   "source": [
    "[11:00:10] WARNING: src/objective/regression_obj.cu:152: reg:linear is now deprecated in favor of reg:squarederror.\n",
    "##########################  Scores of Train Data  ##########################\n",
    "Train set MAE of XGBRegressor(gamma=0.0, learning_rate=0.05, max_depth=7, random_state=1,\n",
    "             reg_alpha=1.0, subsample=1.0): 0.008\n",
    "Train set RMSE of XGBRegressor(gamma=0.0, learning_rate=0.05, max_depth=7, random_state=1,\n",
    "             reg_alpha=1.0, subsample=1.0): 0.012\n",
    "Train set R2 Score of XGBRegressor(gamma=0.0, learning_rate=0.05, max_depth=7, random_state=1,\n",
    "             reg_alpha=1.0, subsample=1.0): 0.916\n",
    "----------------------------------------------------------------------------\n",
    "##########################  Scores of Test1 Data  ##########################\n",
    "Test1 set MAE of XGBRegressor(gamma=0.0, learning_rate=0.05, max_depth=7, random_state=1,\n",
    "             reg_alpha=1.0, subsample=1.0): 0.009\n",
    "Test1 set RMSE of XGBRegressor(gamma=0.0, learning_rate=0.05, max_depth=7, random_state=1,\n",
    "             reg_alpha=1.0, subsample=1.0): 0.012\n",
    "Test1 set R2 Score of XGBRegressor(gamma=0.0, learning_rate=0.05, max_depth=7, random_state=1,\n",
    "             reg_alpha=1.0, subsample=1.0): 0.909\n",
    "----------------------------------------------------------------------------\n",
    "##########################  Scores of Test2 Data  ##########################\n",
    "Test2 set MAE of XGBRegressor(gamma=0.0, learning_rate=0.05, max_depth=7, random_state=1,\n",
    "             reg_alpha=1.0, subsample=1.0): 0.010\n",
    "Test2 set RMSE of XGBRegressor(gamma=0.0, learning_rate=0.05, max_depth=7, random_state=1,\n",
    "             reg_alpha=1.0, subsample=1.0): 0.013\n",
    "Test2 set R2 Score of XGBRegressor(gamma=0.0, learning_rate=0.05, max_depth=7, random_state=1,\n",
    "             reg_alpha=1.0, subsample=1.0): 0.801\n",
    "----------------------------------------------------------------------------\n",
    "##########################  Details  ##########################\n",
    "60.72s elapsed during modeling"
   ]
  },
  {
   "cell_type": "code",
   "execution_count": null,
   "metadata": {},
   "outputs": [],
   "source": []
  },
  {
   "cell_type": "code",
   "execution_count": null,
   "metadata": {},
   "outputs": [],
   "source": []
  },
  {
   "cell_type": "code",
   "execution_count": null,
   "metadata": {},
   "outputs": [],
   "source": []
  },
  {
   "cell_type": "markdown",
   "metadata": {},
   "source": [
    "# DELETING  reg_alpha=1.0"
   ]
  },
  {
   "cell_type": "code",
   "execution_count": 8,
   "metadata": {},
   "outputs": [
    {
     "name": "stdout",
     "output_type": "stream",
     "text": [
      "[09:08:03] WARNING: src/objective/regression_obj.cu:152: reg:linear is now deprecated in favor of reg:squarederror.\n",
      "##########################  Scores of Train Data  ##########################\n",
      "Train set MAE of XGBRegressor(gamma=0.0, learning_rate=0.05, max_depth=7, random_state=1,\n",
      "             subsample=1.0): 0.006\n",
      "Train set RMSE of XGBRegressor(gamma=0.0, learning_rate=0.05, max_depth=7, random_state=1,\n",
      "             subsample=1.0): 0.008\n",
      "Train set R2 Score of XGBRegressor(gamma=0.0, learning_rate=0.05, max_depth=7, random_state=1,\n",
      "             subsample=1.0): 0.957\n",
      "----------------------------------------------------------------------------\n",
      "##########################  Scores of Test1 Data  ##########################\n",
      "Test1 set MAE of XGBRegressor(gamma=0.0, learning_rate=0.05, max_depth=7, random_state=1,\n",
      "             subsample=1.0): 0.006\n",
      "Test1 set RMSE of XGBRegressor(gamma=0.0, learning_rate=0.05, max_depth=7, random_state=1,\n",
      "             subsample=1.0): 0.010\n",
      "Test1 set R2 Score of XGBRegressor(gamma=0.0, learning_rate=0.05, max_depth=7, random_state=1,\n",
      "             subsample=1.0): 0.941\n",
      "----------------------------------------------------------------------------\n",
      "##########################  Scores of Test2 Data  ##########################\n",
      "Test2 set MAE of XGBRegressor(gamma=0.0, learning_rate=0.05, max_depth=7, random_state=1,\n",
      "             subsample=1.0): 0.011\n",
      "Test2 set RMSE of XGBRegressor(gamma=0.0, learning_rate=0.05, max_depth=7, random_state=1,\n",
      "             subsample=1.0): 0.012\n",
      "Test2 set R2 Score of XGBRegressor(gamma=0.0, learning_rate=0.05, max_depth=7, random_state=1,\n",
      "             subsample=1.0): 0.819\n",
      "----------------------------------------------------------------------------\n",
      "##########################  Details  ##########################\n",
      "66.82s elapsed during modeling\n"
     ]
    }
   ],
   "source": [
    "import xgboost as xgb\n",
    "\n",
    "# Model\n",
    "model = xgb.XGBRegressor(random_state=1, gamma=0.0, learning_rate=0.05, max_depth=7, subsample=1.0)\n",
    "\n",
    "# Training\n",
    "modeling(train_encoded=train_encoded, test1_encoded=test1_encoded, test2_encoded=test2_encoded, model=model)"
   ]
  },
  {
   "cell_type": "code",
   "execution_count": null,
   "metadata": {},
   "outputs": [],
   "source": []
  },
  {
   "cell_type": "code",
   "execution_count": 10,
   "metadata": {},
   "outputs": [
    {
     "name": "stdout",
     "output_type": "stream",
     "text": [
      "[09:15:37] WARNING: src/objective/regression_obj.cu:152: reg:linear is now deprecated in favor of reg:squarederror.\n",
      "##########################  Scores of Train Data  ##########################\n",
      "Train set MAE of XGBRegressor(gamma=0.0, learning_rate=0.05, max_depth=7, random_state=1,\n",
      "             reg_alpha=0.0, subsample=1.0): 0.006\n",
      "Train set RMSE of XGBRegressor(gamma=0.0, learning_rate=0.05, max_depth=7, random_state=1,\n",
      "             reg_alpha=0.0, subsample=1.0): 0.008\n",
      "Train set R2 Score of XGBRegressor(gamma=0.0, learning_rate=0.05, max_depth=7, random_state=1,\n",
      "             reg_alpha=0.0, subsample=1.0): 0.957\n",
      "----------------------------------------------------------------------------\n",
      "##########################  Scores of Test1 Data  ##########################\n",
      "Test1 set MAE of XGBRegressor(gamma=0.0, learning_rate=0.05, max_depth=7, random_state=1,\n",
      "             reg_alpha=0.0, subsample=1.0): 0.006\n",
      "Test1 set RMSE of XGBRegressor(gamma=0.0, learning_rate=0.05, max_depth=7, random_state=1,\n",
      "             reg_alpha=0.0, subsample=1.0): 0.010\n",
      "Test1 set R2 Score of XGBRegressor(gamma=0.0, learning_rate=0.05, max_depth=7, random_state=1,\n",
      "             reg_alpha=0.0, subsample=1.0): 0.941\n",
      "----------------------------------------------------------------------------\n",
      "##########################  Scores of Test2 Data  ##########################\n",
      "Test2 set MAE of XGBRegressor(gamma=0.0, learning_rate=0.05, max_depth=7, random_state=1,\n",
      "             reg_alpha=0.0, subsample=1.0): 0.011\n",
      "Test2 set RMSE of XGBRegressor(gamma=0.0, learning_rate=0.05, max_depth=7, random_state=1,\n",
      "             reg_alpha=0.0, subsample=1.0): 0.012\n",
      "Test2 set R2 Score of XGBRegressor(gamma=0.0, learning_rate=0.05, max_depth=7, random_state=1,\n",
      "             reg_alpha=0.0, subsample=1.0): 0.819\n",
      "----------------------------------------------------------------------------\n",
      "##########################  Details  ##########################\n",
      "65.74s elapsed during modeling\n"
     ]
    }
   ],
   "source": [
    "import xgboost as xgb\n",
    "\n",
    "# Model\n",
    "model = xgb.XGBRegressor(random_state=1, gamma=0.0, learning_rate=0.05, max_depth=7, reg_alpha=0.0, subsample=1.0)\n",
    "\n",
    "# Training\n",
    "modeling(train_encoded=train_encoded, test1_encoded=test1_encoded, test2_encoded=test2_encoded, model=model)"
   ]
  },
  {
   "cell_type": "code",
   "execution_count": null,
   "metadata": {},
   "outputs": [],
   "source": []
  },
  {
   "cell_type": "code",
   "execution_count": null,
   "metadata": {},
   "outputs": [],
   "source": []
  },
  {
   "cell_type": "code",
   "execution_count": null,
   "metadata": {},
   "outputs": [],
   "source": []
  },
  {
   "cell_type": "markdown",
   "metadata": {},
   "source": [
    "# Experiment 2  ------  FINAL  ------"
   ]
  },
  {
   "cell_type": "code",
   "execution_count": 8,
   "metadata": {
    "tags": []
   },
   "outputs": [
    {
     "name": "stdout",
     "output_type": "stream",
     "text": [
      "[13:04:40] WARNING: src/objective/regression_obj.cu:152: reg:linear is now deprecated in favor of reg:squarederror.\n",
      "##########################  Scores of Train Data  ##########################\n",
      "Train set MAE of XGBRegressor(max_depth=7, random_state=1, reg_lambda=1.2): 0.004\n",
      "Train set RMSE of XGBRegressor(max_depth=7, random_state=1, reg_lambda=1.2): 0.006\n",
      "Train set R2 Score of XGBRegressor(max_depth=7, random_state=1, reg_lambda=1.2): 0.975\n",
      "----------------------------------------------------------------------------\n",
      "##########################  Scores of Test1 Data  ##########################\n",
      "Test1 set MAE of XGBRegressor(max_depth=7, random_state=1, reg_lambda=1.2): 0.005\n",
      "Test1 set RMSE of XGBRegressor(max_depth=7, random_state=1, reg_lambda=1.2): 0.008\n",
      "Test1 set R2 Score of XGBRegressor(max_depth=7, random_state=1, reg_lambda=1.2): 0.957\n",
      "----------------------------------------------------------------------------\n",
      "##########################  Scores of Test2 Data  ##########################\n",
      "Test2 set MAE of XGBRegressor(max_depth=7, random_state=1, reg_lambda=1.2): 0.010\n",
      "Test2 set RMSE of XGBRegressor(max_depth=7, random_state=1, reg_lambda=1.2): 0.012\n",
      "Test2 set R2 Score of XGBRegressor(max_depth=7, random_state=1, reg_lambda=1.2): 0.826\n",
      "----------------------------------------------------------------------------\n",
      "##########################  Details  ##########################\n",
      "75.78s elapsed during modeling\n"
     ]
    }
   ],
   "source": [
    "import xgboost as xgb\n",
    "\n",
    "# Model\n",
    "model = xgb.XGBRegressor(random_state=1, learning_rate=0.1, max_depth=7, reg_lambda=1.2)\n",
    "\n",
    "# Training\n",
    "modeling(train_encoded=train_encoded, test1_encoded=test1_encoded, test2_encoded=test2_encoded, model=model)"
   ]
  },
  {
   "cell_type": "code",
   "execution_count": null,
   "metadata": {},
   "outputs": [],
   "source": [
    "INITIAL SCORES: 0.007\t0.011\t0.925\t\t0.008\t0.011\t0.923\t\t0.012\t0.015\t0.709"
   ]
  },
  {
   "cell_type": "code",
   "execution_count": null,
   "metadata": {},
   "outputs": [],
   "source": [
    "[08:13:59] WARNING: src/objective/regression_obj.cu:152: reg:linear is now deprecated in favor of reg:squarederror.\n",
    "##########################  Scores of Train Data  ##########################\n",
    "Train set MAE of XGBRegressor(max_depth=7, random_state=1, reg_lambda=1.2): 0.004\n",
    "Train set RMSE of XGBRegressor(max_depth=7, random_state=1, reg_lambda=1.2): 0.006\n",
    "Train set R2 Score of XGBRegressor(max_depth=7, random_state=1, reg_lambda=1.2): 0.975\n",
    "----------------------------------------------------------------------------\n",
    "##########################  Scores of Test1 Data  ##########################\n",
    "Test1 set MAE of XGBRegressor(max_depth=7, random_state=1, reg_lambda=1.2): 0.005\n",
    "Test1 set RMSE of XGBRegressor(max_depth=7, random_state=1, reg_lambda=1.2): 0.008\n",
    "Test1 set R2 Score of XGBRegressor(max_depth=7, random_state=1, reg_lambda=1.2): 0.957\n",
    "----------------------------------------------------------------------------\n",
    "##########################  Scores of Test2 Data  ##########################\n",
    "Test2 set MAE of XGBRegressor(max_depth=7, random_state=1, reg_lambda=1.2): 0.010\n",
    "Test2 set RMSE of XGBRegressor(max_depth=7, random_state=1, reg_lambda=1.2): 0.012\n",
    "Test2 set R2 Score of XGBRegressor(max_depth=7, random_state=1, reg_lambda=1.2): 0.826\n",
    "----------------------------------------------------------------------------\n",
    "##########################  Details  ##########################\n",
    "70.69s elapsed during modeling"
   ]
  },
  {
   "cell_type": "code",
   "execution_count": null,
   "metadata": {},
   "outputs": [],
   "source": []
  },
  {
   "cell_type": "code",
   "execution_count": null,
   "metadata": {},
   "outputs": [],
   "source": []
  },
  {
   "cell_type": "code",
   "execution_count": null,
   "metadata": {},
   "outputs": [],
   "source": []
  },
  {
   "cell_type": "code",
   "execution_count": 10,
   "metadata": {},
   "outputs": [
    {
     "data": {
      "text/plain": [
       "XGBRegressor(max_depth=7, random_state=1, reg_lambda=1.2)"
      ]
     },
     "execution_count": 10,
     "metadata": {},
     "output_type": "execute_result"
    }
   ],
   "source": [
    "model"
   ]
  },
  {
   "cell_type": "markdown",
   "metadata": {},
   "source": [
    "--------------"
   ]
  },
  {
   "cell_type": "markdown",
   "metadata": {},
   "source": [
    "# Saving Test 1 Predictions"
   ]
  },
  {
   "cell_type": "code",
   "execution_count": null,
   "metadata": {},
   "outputs": [],
   "source": []
  },
  {
   "cell_type": "code",
   "execution_count": 11,
   "metadata": {},
   "outputs": [
    {
     "data": {
      "text/html": [
       "<div>\n",
       "<style scoped>\n",
       "    .dataframe tbody tr th:only-of-type {\n",
       "        vertical-align: middle;\n",
       "    }\n",
       "\n",
       "    .dataframe tbody tr th {\n",
       "        vertical-align: top;\n",
       "    }\n",
       "\n",
       "    .dataframe thead th {\n",
       "        text-align: right;\n",
       "    }\n",
       "</style>\n",
       "<table border=\"1\" class=\"dataframe\">\n",
       "  <thead>\n",
       "    <tr style=\"text-align: right;\">\n",
       "      <th></th>\n",
       "      <th>reaction_id</th>\n",
       "      <th>data_package_id</th>\n",
       "      <th>bond_type</th>\n",
       "      <th>functional_group_stoichiometry</th>\n",
       "      <th>reactant_smiles</th>\n",
       "      <th>product_smiles</th>\n",
       "      <th>reactant_inchiKey</th>\n",
       "      <th>product_inchiKey</th>\n",
       "      <th>reactant_solubility</th>\n",
       "      <th>product_solubility</th>\n",
       "      <th>...</th>\n",
       "      <th>product_single_point_job_id</th>\n",
       "      <th>reactant_optimization_job_id</th>\n",
       "      <th>product_optimization_job_id</th>\n",
       "      <th>UMAP-1</th>\n",
       "      <th>UMAP-2</th>\n",
       "      <th>data_type</th>\n",
       "      <th>reactantUFF</th>\n",
       "      <th>reactantMMFF</th>\n",
       "      <th>productUFF</th>\n",
       "      <th>productMMFF</th>\n",
       "    </tr>\n",
       "  </thead>\n",
       "  <tbody>\n",
       "    <tr>\n",
       "      <th>2</th>\n",
       "      <td>3</td>\n",
       "      <td>1</td>\n",
       "      <td>OH</td>\n",
       "      <td>COOH</td>\n",
       "      <td>O=C1CC(=O)C(C(=O)O)=C1C(=O)O</td>\n",
       "      <td>C1C(O)=C(C(=O)O)C(=C1O)C(=O)O</td>\n",
       "      <td>QLGSJNWSAMBDMI-UHFFFAOYSA-N</td>\n",
       "      <td>AEVQXUUICHCAGT-UHFFFAOYSA-N</td>\n",
       "      <td>-0.966</td>\n",
       "      <td>-0.867</td>\n",
       "      <td>...</td>\n",
       "      <td>26.0</td>\n",
       "      <td>19.0</td>\n",
       "      <td>25.0</td>\n",
       "      <td>13.362195</td>\n",
       "      <td>3.405288</td>\n",
       "      <td>1</td>\n",
       "      <td>33.280029</td>\n",
       "      <td>-113.415199</td>\n",
       "      <td>37.053325</td>\n",
       "      <td>-2.716193</td>\n",
       "    </tr>\n",
       "    <tr>\n",
       "      <th>3</th>\n",
       "      <td>4</td>\n",
       "      <td>1</td>\n",
       "      <td>OH</td>\n",
       "      <td>F</td>\n",
       "      <td>O=C1CC(=O)C=C1F</td>\n",
       "      <td>C1C(O)=C(F)C=C1O</td>\n",
       "      <td>XVCHEZRSXGJYDT-UHFFFAOYSA-N</td>\n",
       "      <td>LLYKNQJBRVSOKM-UHFFFAOYSA-N</td>\n",
       "      <td>-0.524</td>\n",
       "      <td>-0.499</td>\n",
       "      <td>...</td>\n",
       "      <td>34.0</td>\n",
       "      <td>21.0</td>\n",
       "      <td>33.0</td>\n",
       "      <td>14.856011</td>\n",
       "      <td>2.316219</td>\n",
       "      <td>1</td>\n",
       "      <td>23.112465</td>\n",
       "      <td>-12.882731</td>\n",
       "      <td>24.103198</td>\n",
       "      <td>34.474933</td>\n",
       "    </tr>\n",
       "  </tbody>\n",
       "</table>\n",
       "<p>2 rows × 46 columns</p>\n",
       "</div>"
      ],
      "text/plain": [
       "   reaction_id  data_package_id bond_type functional_group_stoichiometry  \\\n",
       "2            3                1        OH                           COOH   \n",
       "3            4                1        OH                              F   \n",
       "\n",
       "                reactant_smiles                 product_smiles  \\\n",
       "2  O=C1CC(=O)C(C(=O)O)=C1C(=O)O  C1C(O)=C(C(=O)O)C(=C1O)C(=O)O   \n",
       "3               O=C1CC(=O)C=C1F               C1C(O)=C(F)C=C1O   \n",
       "\n",
       "             reactant_inchiKey             product_inchiKey  \\\n",
       "2  QLGSJNWSAMBDMI-UHFFFAOYSA-N  AEVQXUUICHCAGT-UHFFFAOYSA-N   \n",
       "3  XVCHEZRSXGJYDT-UHFFFAOYSA-N  LLYKNQJBRVSOKM-UHFFFAOYSA-N   \n",
       "\n",
       "   reactant_solubility  product_solubility  ...  product_single_point_job_id  \\\n",
       "2               -0.966              -0.867  ...                         26.0   \n",
       "3               -0.524              -0.499  ...                         34.0   \n",
       "\n",
       "   reactant_optimization_job_id  product_optimization_job_id     UMAP-1  \\\n",
       "2                          19.0                         25.0  13.362195   \n",
       "3                          21.0                         33.0  14.856011   \n",
       "\n",
       "     UMAP-2  data_type  reactantUFF  reactantMMFF  productUFF  productMMFF  \n",
       "2  3.405288          1    33.280029   -113.415199   37.053325    -2.716193  \n",
       "3  2.316219          1    23.112465    -12.882731   24.103198    34.474933  \n",
       "\n",
       "[2 rows x 46 columns]"
      ]
     },
     "execution_count": 11,
     "metadata": {},
     "output_type": "execute_result"
    }
   ],
   "source": [
    "test1_data.head(2)"
   ]
  },
  {
   "cell_type": "code",
   "execution_count": null,
   "metadata": {},
   "outputs": [],
   "source": []
  },
  {
   "cell_type": "code",
   "execution_count": 12,
   "metadata": {},
   "outputs": [
    {
     "name": "stderr",
     "output_type": "stream",
     "text": [
      "C:\\Users\\PC\\Anaconda3\\lib\\site-packages\\ipykernel_launcher.py:3: SettingWithCopyWarning: \n",
      "A value is trying to be set on a copy of a slice from a DataFrame.\n",
      "Try using .loc[row_indexer,col_indexer] = value instead\n",
      "\n",
      "See the caveats in the documentation: https://pandas.pydata.org/pandas-docs/stable/user_guide/indexing.html#returning-a-view-versus-a-copy\n",
      "  This is separate from the ipykernel package so we can avoid doing imports until\n"
     ]
    },
    {
     "data": {
      "text/html": [
       "<div>\n",
       "<style scoped>\n",
       "    .dataframe tbody tr th:only-of-type {\n",
       "        vertical-align: middle;\n",
       "    }\n",
       "\n",
       "    .dataframe tbody tr th {\n",
       "        vertical-align: top;\n",
       "    }\n",
       "\n",
       "    .dataframe thead th {\n",
       "        text-align: right;\n",
       "    }\n",
       "</style>\n",
       "<table border=\"1\" class=\"dataframe\">\n",
       "  <thead>\n",
       "    <tr style=\"text-align: right;\">\n",
       "      <th></th>\n",
       "      <th>reaction_id</th>\n",
       "      <th>reactant_smiles</th>\n",
       "      <th>reaction_energy</th>\n",
       "      <th>pred_test1</th>\n",
       "    </tr>\n",
       "  </thead>\n",
       "  <tbody>\n",
       "    <tr>\n",
       "      <th>2</th>\n",
       "      <td>3</td>\n",
       "      <td>O=C1CC(=O)C(C(=O)O)=C1C(=O)O</td>\n",
       "      <td>-0.06394</td>\n",
       "      <td>-0.041269</td>\n",
       "    </tr>\n",
       "    <tr>\n",
       "      <th>3</th>\n",
       "      <td>4</td>\n",
       "      <td>O=C1CC(=O)C=C1F</td>\n",
       "      <td>-0.01642</td>\n",
       "      <td>-0.008422</td>\n",
       "    </tr>\n",
       "    <tr>\n",
       "      <th>13</th>\n",
       "      <td>14</td>\n",
       "      <td>O=C1NC(=O)C=C1</td>\n",
       "      <td>-0.00731</td>\n",
       "      <td>0.008095</td>\n",
       "    </tr>\n",
       "    <tr>\n",
       "      <th>14</th>\n",
       "      <td>15</td>\n",
       "      <td>O=C1NC(=O)C(F)=C1F</td>\n",
       "      <td>-0.00118</td>\n",
       "      <td>0.003707</td>\n",
       "    </tr>\n",
       "    <tr>\n",
       "      <th>24</th>\n",
       "      <td>25</td>\n",
       "      <td>O=C1SC(=O)C(C(=O)O)=C1C(=O)O</td>\n",
       "      <td>-0.06775</td>\n",
       "      <td>-0.041443</td>\n",
       "    </tr>\n",
       "    <tr>\n",
       "      <th>...</th>\n",
       "      <td>...</td>\n",
       "      <td>...</td>\n",
       "      <td>...</td>\n",
       "      <td>...</td>\n",
       "    </tr>\n",
       "    <tr>\n",
       "      <th>15759</th>\n",
       "      <td>15897</td>\n",
       "      <td>O=S(=O)(O)c(c1)cc(S(=O)(=O)O)c(c12)c(O)n(c2O)N...</td>\n",
       "      <td>-0.00215</td>\n",
       "      <td>-0.001993</td>\n",
       "    </tr>\n",
       "    <tr>\n",
       "      <th>15762</th>\n",
       "      <td>15900</td>\n",
       "      <td>c1cccc(c12)c(O)n(c2O)N(C3=O)C(=O)c(c34)c(S(=O)...</td>\n",
       "      <td>0.02162</td>\n",
       "      <td>0.004691</td>\n",
       "    </tr>\n",
       "    <tr>\n",
       "      <th>15768</th>\n",
       "      <td>15906</td>\n",
       "      <td>O=S(=O)(O)c(c1)c(S(=O)(=O)O)c(S(=O)(=O)O)c(c12...</td>\n",
       "      <td>-0.01803</td>\n",
       "      <td>-0.007692</td>\n",
       "    </tr>\n",
       "    <tr>\n",
       "      <th>15788</th>\n",
       "      <td>15927</td>\n",
       "      <td>O=S(=O)(O)c1ccc(S(=O)(=O)O)c(c12)c(O)n(c2O)N(C...</td>\n",
       "      <td>-0.03881</td>\n",
       "      <td>-0.009787</td>\n",
       "    </tr>\n",
       "    <tr>\n",
       "      <th>15791</th>\n",
       "      <td>15930</td>\n",
       "      <td>O=S(=O)(O)c1c(S(=O)(=O)O)c(S(=O)(=O)O)c(S(=O)(...</td>\n",
       "      <td>0.00826</td>\n",
       "      <td>-0.015313</td>\n",
       "    </tr>\n",
       "  </tbody>\n",
       "</table>\n",
       "<p>1607 rows × 4 columns</p>\n",
       "</div>"
      ],
      "text/plain": [
       "       reaction_id                                    reactant_smiles  \\\n",
       "2                3                       O=C1CC(=O)C(C(=O)O)=C1C(=O)O   \n",
       "3                4                                    O=C1CC(=O)C=C1F   \n",
       "13              14                                     O=C1NC(=O)C=C1   \n",
       "14              15                                 O=C1NC(=O)C(F)=C1F   \n",
       "24              25                       O=C1SC(=O)C(C(=O)O)=C1C(=O)O   \n",
       "...            ...                                                ...   \n",
       "15759        15897  O=S(=O)(O)c(c1)cc(S(=O)(=O)O)c(c12)c(O)n(c2O)N...   \n",
       "15762        15900  c1cccc(c12)c(O)n(c2O)N(C3=O)C(=O)c(c34)c(S(=O)...   \n",
       "15768        15906  O=S(=O)(O)c(c1)c(S(=O)(=O)O)c(S(=O)(=O)O)c(c12...   \n",
       "15788        15927  O=S(=O)(O)c1ccc(S(=O)(=O)O)c(c12)c(O)n(c2O)N(C...   \n",
       "15791        15930  O=S(=O)(O)c1c(S(=O)(=O)O)c(S(=O)(=O)O)c(S(=O)(...   \n",
       "\n",
       "       reaction_energy  pred_test1  \n",
       "2             -0.06394   -0.041269  \n",
       "3             -0.01642   -0.008422  \n",
       "13            -0.00731    0.008095  \n",
       "14            -0.00118    0.003707  \n",
       "24            -0.06775   -0.041443  \n",
       "...                ...         ...  \n",
       "15759         -0.00215   -0.001993  \n",
       "15762          0.02162    0.004691  \n",
       "15768         -0.01803   -0.007692  \n",
       "15788         -0.03881   -0.009787  \n",
       "15791          0.00826   -0.015313  \n",
       "\n",
       "[1607 rows x 4 columns]"
      ]
     },
     "execution_count": 12,
     "metadata": {},
     "output_type": "execute_result"
    }
   ],
   "source": [
    "pred_test1 = model.predict(test1_encoded.values)\n",
    "xgbm_result_test1 = test1_data[[\"reaction_id\", \"reactant_smiles\", \"reaction_energy\"]]\n",
    "xgbm_result_test1[\"pred_test1\"] = pred_test1\n",
    "xgbm_result_test1"
   ]
  },
  {
   "cell_type": "code",
   "execution_count": 13,
   "metadata": {},
   "outputs": [
    {
     "data": {
      "text/plain": [
       "array([-0.04126918, -0.00842154,  0.0080952 , ..., -0.0076924 ,\n",
       "       -0.00978744, -0.01531339], dtype=float32)"
      ]
     },
     "execution_count": 13,
     "metadata": {},
     "output_type": "execute_result"
    }
   ],
   "source": [
    "pred_test1"
   ]
  },
  {
   "cell_type": "code",
   "execution_count": null,
   "metadata": {},
   "outputs": [],
   "source": []
  },
  {
   "cell_type": "code",
   "execution_count": 16,
   "metadata": {},
   "outputs": [],
   "source": [
    "# saving the dataframe\n",
    "xgbm_result_test1.to_csv(r'.\\final_models\\xgbm_result_test1.csv', index=False)"
   ]
  },
  {
   "cell_type": "markdown",
   "metadata": {},
   "source": [
    "# Saving Test 2 Predictions"
   ]
  },
  {
   "cell_type": "code",
   "execution_count": 17,
   "metadata": {},
   "outputs": [
    {
     "data": {
      "text/html": [
       "<div>\n",
       "<style scoped>\n",
       "    .dataframe tbody tr th:only-of-type {\n",
       "        vertical-align: middle;\n",
       "    }\n",
       "\n",
       "    .dataframe tbody tr th {\n",
       "        vertical-align: top;\n",
       "    }\n",
       "\n",
       "    .dataframe thead th {\n",
       "        text-align: right;\n",
       "    }\n",
       "</style>\n",
       "<table border=\"1\" class=\"dataframe\">\n",
       "  <thead>\n",
       "    <tr style=\"text-align: right;\">\n",
       "      <th></th>\n",
       "      <th>reaction_id</th>\n",
       "      <th>data_package_id</th>\n",
       "      <th>bond_type</th>\n",
       "      <th>functional_group_stoichiometry</th>\n",
       "      <th>reactant_smiles</th>\n",
       "      <th>product_smiles</th>\n",
       "      <th>reactant_inchiKey</th>\n",
       "      <th>product_inchiKey</th>\n",
       "      <th>reactant_solubility</th>\n",
       "      <th>product_solubility</th>\n",
       "      <th>...</th>\n",
       "      <th>product_single_point_job_id</th>\n",
       "      <th>reactant_optimization_job_id</th>\n",
       "      <th>product_optimization_job_id</th>\n",
       "      <th>UMAP-1</th>\n",
       "      <th>UMAP-2</th>\n",
       "      <th>data_type</th>\n",
       "      <th>reactantUFF</th>\n",
       "      <th>reactantMMFF</th>\n",
       "      <th>productUFF</th>\n",
       "      <th>productMMFF</th>\n",
       "    </tr>\n",
       "  </thead>\n",
       "  <tbody>\n",
       "    <tr>\n",
       "      <th>767</th>\n",
       "      <td>769</td>\n",
       "      <td>25</td>\n",
       "      <td>NH</td>\n",
       "      <td>OH</td>\n",
       "      <td>c1cccc(c12)cc(nn2)O</td>\n",
       "      <td>c1cccc(c12)C=C(O)NN2</td>\n",
       "      <td>CXUGAWWYKSOLEL-UHFFFAOYSA-N</td>\n",
       "      <td>BMBWSQWNXPSELG-UHFFFAOYSA-N</td>\n",
       "      <td>-2.080</td>\n",
       "      <td>-2.410</td>\n",
       "      <td>...</td>\n",
       "      <td>2965.0</td>\n",
       "      <td>2369.0</td>\n",
       "      <td>2964.0</td>\n",
       "      <td>21.961576</td>\n",
       "      <td>-2.257458</td>\n",
       "      <td>2</td>\n",
       "      <td>20.955169</td>\n",
       "      <td>18.343820</td>\n",
       "      <td>17.140645</td>\n",
       "      <td>19.530730</td>\n",
       "    </tr>\n",
       "    <tr>\n",
       "      <th>772</th>\n",
       "      <td>774</td>\n",
       "      <td>25</td>\n",
       "      <td>NH</td>\n",
       "      <td>OH</td>\n",
       "      <td>Oc1cccc(c12)cc(nn2)O</td>\n",
       "      <td>Oc1cccc(c12)C=C(O)NN2</td>\n",
       "      <td>BSAMMELAAJYOKU-UHFFFAOYSA-N</td>\n",
       "      <td>QXPSFNRPQZDOFI-UHFFFAOYSA-N</td>\n",
       "      <td>-2.173</td>\n",
       "      <td>-2.142</td>\n",
       "      <td>...</td>\n",
       "      <td>3339.0</td>\n",
       "      <td>2335.0</td>\n",
       "      <td>3338.0</td>\n",
       "      <td>22.153984</td>\n",
       "      <td>-2.141872</td>\n",
       "      <td>2</td>\n",
       "      <td>22.612127</td>\n",
       "      <td>27.933289</td>\n",
       "      <td>20.633665</td>\n",
       "      <td>23.125357</td>\n",
       "    </tr>\n",
       "  </tbody>\n",
       "</table>\n",
       "<p>2 rows × 46 columns</p>\n",
       "</div>"
      ],
      "text/plain": [
       "     reaction_id  data_package_id bond_type functional_group_stoichiometry  \\\n",
       "767          769               25        NH                             OH   \n",
       "772          774               25        NH                             OH   \n",
       "\n",
       "          reactant_smiles         product_smiles            reactant_inchiKey  \\\n",
       "767   c1cccc(c12)cc(nn2)O   c1cccc(c12)C=C(O)NN2  CXUGAWWYKSOLEL-UHFFFAOYSA-N   \n",
       "772  Oc1cccc(c12)cc(nn2)O  Oc1cccc(c12)C=C(O)NN2  BSAMMELAAJYOKU-UHFFFAOYSA-N   \n",
       "\n",
       "                product_inchiKey  reactant_solubility  product_solubility  \\\n",
       "767  BMBWSQWNXPSELG-UHFFFAOYSA-N               -2.080              -2.410   \n",
       "772  QXPSFNRPQZDOFI-UHFFFAOYSA-N               -2.173              -2.142   \n",
       "\n",
       "     ...  product_single_point_job_id  reactant_optimization_job_id  \\\n",
       "767  ...                       2965.0                        2369.0   \n",
       "772  ...                       3339.0                        2335.0   \n",
       "\n",
       "     product_optimization_job_id     UMAP-1    UMAP-2  data_type  reactantUFF  \\\n",
       "767                       2964.0  21.961576 -2.257458          2    20.955169   \n",
       "772                       3338.0  22.153984 -2.141872          2    22.612127   \n",
       "\n",
       "     reactantMMFF  productUFF  productMMFF  \n",
       "767     18.343820   17.140645    19.530730  \n",
       "772     27.933289   20.633665    23.125357  \n",
       "\n",
       "[2 rows x 46 columns]"
      ]
     },
     "execution_count": 17,
     "metadata": {},
     "output_type": "execute_result"
    }
   ],
   "source": [
    "test2_data.head(2)"
   ]
  },
  {
   "cell_type": "code",
   "execution_count": 18,
   "metadata": {},
   "outputs": [
    {
     "name": "stderr",
     "output_type": "stream",
     "text": [
      "C:\\Users\\PC\\Anaconda3\\lib\\site-packages\\ipykernel_launcher.py:3: SettingWithCopyWarning: \n",
      "A value is trying to be set on a copy of a slice from a DataFrame.\n",
      "Try using .loc[row_indexer,col_indexer] = value instead\n",
      "\n",
      "See the caveats in the documentation: https://pandas.pydata.org/pandas-docs/stable/user_guide/indexing.html#returning-a-view-versus-a-copy\n",
      "  This is separate from the ipykernel package so we can avoid doing imports until\n"
     ]
    },
    {
     "data": {
      "text/html": [
       "<div>\n",
       "<style scoped>\n",
       "    .dataframe tbody tr th:only-of-type {\n",
       "        vertical-align: middle;\n",
       "    }\n",
       "\n",
       "    .dataframe tbody tr th {\n",
       "        vertical-align: top;\n",
       "    }\n",
       "\n",
       "    .dataframe thead th {\n",
       "        text-align: right;\n",
       "    }\n",
       "</style>\n",
       "<table border=\"1\" class=\"dataframe\">\n",
       "  <thead>\n",
       "    <tr style=\"text-align: right;\">\n",
       "      <th></th>\n",
       "      <th>reaction_id</th>\n",
       "      <th>reactant_smiles</th>\n",
       "      <th>reaction_energy</th>\n",
       "      <th>pred_test2</th>\n",
       "    </tr>\n",
       "  </thead>\n",
       "  <tbody>\n",
       "    <tr>\n",
       "      <th>767</th>\n",
       "      <td>769</td>\n",
       "      <td>c1cccc(c12)cc(nn2)O</td>\n",
       "      <td>-0.01916</td>\n",
       "      <td>-0.010802</td>\n",
       "    </tr>\n",
       "    <tr>\n",
       "      <th>772</th>\n",
       "      <td>774</td>\n",
       "      <td>Oc1cccc(c12)cc(nn2)O</td>\n",
       "      <td>-0.01587</td>\n",
       "      <td>-0.007544</td>\n",
       "    </tr>\n",
       "    <tr>\n",
       "      <th>776</th>\n",
       "      <td>778</td>\n",
       "      <td>c1c(O)ccc(c12)cc(nn2)O</td>\n",
       "      <td>-0.01793</td>\n",
       "      <td>-0.007544</td>\n",
       "    </tr>\n",
       "    <tr>\n",
       "      <th>779</th>\n",
       "      <td>781</td>\n",
       "      <td>c1cc(O)cc(c12)cc(nn2)O</td>\n",
       "      <td>-0.01559</td>\n",
       "      <td>-0.007544</td>\n",
       "    </tr>\n",
       "    <tr>\n",
       "      <th>781</th>\n",
       "      <td>783</td>\n",
       "      <td>c1ccc(O)c(c12)cc(nn2)O</td>\n",
       "      <td>-0.01734</td>\n",
       "      <td>-0.007544</td>\n",
       "    </tr>\n",
       "    <tr>\n",
       "      <th>...</th>\n",
       "      <td>...</td>\n",
       "      <td>...</td>\n",
       "      <td>...</td>\n",
       "      <td>...</td>\n",
       "    </tr>\n",
       "    <tr>\n",
       "      <th>14233</th>\n",
       "      <td>14338</td>\n",
       "      <td>O=C(O)c1cc(C(=O)O)c(C(=O)O)c(c12)S/C(C2=O)=C(C...</td>\n",
       "      <td>-0.06081</td>\n",
       "      <td>-0.050191</td>\n",
       "    </tr>\n",
       "    <tr>\n",
       "      <th>14234</th>\n",
       "      <td>14339</td>\n",
       "      <td>O=C(O)c1c(C(=O)O)cc(C(=O)O)c(c12)S/C(C2=O)=C(C...</td>\n",
       "      <td>-0.04998</td>\n",
       "      <td>-0.048738</td>\n",
       "    </tr>\n",
       "    <tr>\n",
       "      <th>14235</th>\n",
       "      <td>14340</td>\n",
       "      <td>O=C(O)c1c(C(=O)O)cc(C(=O)O)c(c12)S/C(C2=O)=C(C...</td>\n",
       "      <td>-0.05763</td>\n",
       "      <td>-0.048738</td>\n",
       "    </tr>\n",
       "    <tr>\n",
       "      <th>14236</th>\n",
       "      <td>14341</td>\n",
       "      <td>O=C(O)c1c(C(=O)O)c(C(=O)O)cc(c12)S/C(C2=O)=C(C...</td>\n",
       "      <td>-0.05533</td>\n",
       "      <td>-0.048738</td>\n",
       "    </tr>\n",
       "    <tr>\n",
       "      <th>14237</th>\n",
       "      <td>14342</td>\n",
       "      <td>O=C(O)c1c(C(=O)O)c(C(=O)O)c(C(=O)O)c(c12)S/C(C...</td>\n",
       "      <td>-0.05424</td>\n",
       "      <td>-0.052468</td>\n",
       "    </tr>\n",
       "  </tbody>\n",
       "</table>\n",
       "<p>1480 rows × 4 columns</p>\n",
       "</div>"
      ],
      "text/plain": [
       "       reaction_id                                    reactant_smiles  \\\n",
       "767            769                                c1cccc(c12)cc(nn2)O   \n",
       "772            774                               Oc1cccc(c12)cc(nn2)O   \n",
       "776            778                             c1c(O)ccc(c12)cc(nn2)O   \n",
       "779            781                             c1cc(O)cc(c12)cc(nn2)O   \n",
       "781            783                             c1ccc(O)c(c12)cc(nn2)O   \n",
       "...            ...                                                ...   \n",
       "14233        14338  O=C(O)c1cc(C(=O)O)c(C(=O)O)c(c12)S/C(C2=O)=C(C...   \n",
       "14234        14339  O=C(O)c1c(C(=O)O)cc(C(=O)O)c(c12)S/C(C2=O)=C(C...   \n",
       "14235        14340  O=C(O)c1c(C(=O)O)cc(C(=O)O)c(c12)S/C(C2=O)=C(C...   \n",
       "14236        14341  O=C(O)c1c(C(=O)O)c(C(=O)O)cc(c12)S/C(C2=O)=C(C...   \n",
       "14237        14342  O=C(O)c1c(C(=O)O)c(C(=O)O)c(C(=O)O)c(c12)S/C(C...   \n",
       "\n",
       "       reaction_energy  pred_test2  \n",
       "767           -0.01916   -0.010802  \n",
       "772           -0.01587   -0.007544  \n",
       "776           -0.01793   -0.007544  \n",
       "779           -0.01559   -0.007544  \n",
       "781           -0.01734   -0.007544  \n",
       "...                ...         ...  \n",
       "14233         -0.06081   -0.050191  \n",
       "14234         -0.04998   -0.048738  \n",
       "14235         -0.05763   -0.048738  \n",
       "14236         -0.05533   -0.048738  \n",
       "14237         -0.05424   -0.052468  \n",
       "\n",
       "[1480 rows x 4 columns]"
      ]
     },
     "execution_count": 18,
     "metadata": {},
     "output_type": "execute_result"
    }
   ],
   "source": [
    "pred_test2 = model.predict(test2_encoded.values)\n",
    "xgbm_result_test2 = test2_data[[\"reaction_id\", \"reactant_smiles\", \"reaction_energy\"]]\n",
    "xgbm_result_test2[\"pred_test2\"] = pred_test2\n",
    "xgbm_result_test2"
   ]
  },
  {
   "cell_type": "code",
   "execution_count": 19,
   "metadata": {},
   "outputs": [
    {
     "data": {
      "text/plain": [
       "array([-0.01080245, -0.00754446, -0.00754446, ..., -0.04873782,\n",
       "       -0.04873782, -0.05246824], dtype=float32)"
      ]
     },
     "execution_count": 19,
     "metadata": {},
     "output_type": "execute_result"
    }
   ],
   "source": [
    "pred_test2"
   ]
  },
  {
   "cell_type": "code",
   "execution_count": null,
   "metadata": {},
   "outputs": [],
   "source": []
  },
  {
   "cell_type": "code",
   "execution_count": 20,
   "metadata": {},
   "outputs": [],
   "source": [
    "# saving the dataframe\n",
    "xgbm_result_test2.to_csv(r'.\\final_models\\xgbm_result_test2.csv', index=False)"
   ]
  },
  {
   "cell_type": "code",
   "execution_count": null,
   "metadata": {},
   "outputs": [],
   "source": []
  },
  {
   "cell_type": "markdown",
   "metadata": {},
   "source": [
    "\n",
    "--------------------------------------------------------------------------------------------------------------"
   ]
  },
  {
   "cell_type": "code",
   "execution_count": null,
   "metadata": {},
   "outputs": [],
   "source": []
  },
  {
   "cell_type": "code",
   "execution_count": null,
   "metadata": {},
   "outputs": [],
   "source": []
  },
  {
   "cell_type": "markdown",
   "metadata": {},
   "source": [
    "# Saving XGBM Model"
   ]
  },
  {
   "cell_type": "code",
   "execution_count": 22,
   "metadata": {},
   "outputs": [
    {
     "data": {
      "text/plain": [
       "XGBRegressor(max_depth=7, random_state=1, reg_lambda=1.2)"
      ]
     },
     "execution_count": 22,
     "metadata": {},
     "output_type": "execute_result"
    }
   ],
   "source": [
    "model"
   ]
  },
  {
   "cell_type": "code",
   "execution_count": 23,
   "metadata": {},
   "outputs": [
    {
     "data": {
      "text/plain": [
       "array([-0.04126918, -0.00842154,  0.0080952 , ..., -0.0076924 ,\n",
       "       -0.00978744, -0.01531339], dtype=float32)"
      ]
     },
     "execution_count": 23,
     "metadata": {},
     "output_type": "execute_result"
    }
   ],
   "source": [
    "pred_test1 = model.predict(test1_encoded.values)\n",
    "pred_test1"
   ]
  },
  {
   "cell_type": "code",
   "execution_count": null,
   "metadata": {},
   "outputs": [],
   "source": []
  },
  {
   "cell_type": "code",
   "execution_count": 25,
   "metadata": {},
   "outputs": [],
   "source": [
    "#model.save_model(r'.\\final_models\\xgbm_final_model.txt')"
   ]
  },
  {
   "cell_type": "code",
   "execution_count": 47,
   "metadata": {},
   "outputs": [],
   "source": [
    "import pickle\n",
    "# save\n",
    "pickle.dump(model, open(r'.\\final_models\\xgbm_final_model.txt', \"wb\"))"
   ]
  },
  {
   "cell_type": "code",
   "execution_count": 51,
   "metadata": {},
   "outputs": [],
   "source": [
    "pickle.dump(model, open(r'.\\final_models\\dene.pkl', \"wb\"))"
   ]
  },
  {
   "cell_type": "markdown",
   "metadata": {},
   "source": [
    "### Read Saved model "
   ]
  },
  {
   "cell_type": "code",
   "execution_count": 53,
   "metadata": {},
   "outputs": [
    {
     "name": "stdout",
     "output_type": "stream",
     "text": [
      "[13:24:04] WARNING: src/objective/regression_obj.cu:152: reg:linear is now deprecated in favor of reg:squarederror.\n"
     ]
    }
   ],
   "source": [
    "# load\n",
    "xgbm_final_model = pickle.load(open(r'.\\final_models\\xgbm_final_model.txt', \"rb\"))"
   ]
  },
  {
   "cell_type": "code",
   "execution_count": 57,
   "metadata": {},
   "outputs": [
    {
     "data": {
      "text/plain": [
       "XGBRegressor(max_depth=7, missing=nan, random_state=1, reg_lambda=1.2)"
      ]
     },
     "execution_count": 57,
     "metadata": {},
     "output_type": "execute_result"
    }
   ],
   "source": [
    "xgbm_final_model"
   ]
  },
  {
   "cell_type": "code",
   "execution_count": null,
   "metadata": {},
   "outputs": [],
   "source": []
  },
  {
   "cell_type": "code",
   "execution_count": null,
   "metadata": {},
   "outputs": [],
   "source": []
  },
  {
   "cell_type": "code",
   "execution_count": null,
   "metadata": {},
   "outputs": [],
   "source": []
  },
  {
   "cell_type": "code",
   "execution_count": 54,
   "metadata": {},
   "outputs": [
    {
     "name": "stdout",
     "output_type": "stream",
     "text": [
      "[13:24:08] WARNING: src/objective/regression_obj.cu:152: reg:linear is now deprecated in favor of reg:squarederror.\n"
     ]
    }
   ],
   "source": [
    "dene = pickle.load(open(r'.\\final_models\\dene.pkl', \"rb\"))"
   ]
  },
  {
   "cell_type": "code",
   "execution_count": 55,
   "metadata": {},
   "outputs": [
    {
     "data": {
      "text/plain": [
       "XGBRegressor(max_depth=7, missing=nan, random_state=1, reg_lambda=1.2)"
      ]
     },
     "execution_count": 55,
     "metadata": {},
     "output_type": "execute_result"
    }
   ],
   "source": [
    "dene"
   ]
  },
  {
   "cell_type": "code",
   "execution_count": null,
   "metadata": {},
   "outputs": [],
   "source": []
  },
  {
   "cell_type": "code",
   "execution_count": null,
   "metadata": {},
   "outputs": [],
   "source": []
  },
  {
   "cell_type": "code",
   "execution_count": null,
   "metadata": {},
   "outputs": [],
   "source": []
  },
  {
   "cell_type": "code",
   "execution_count": 50,
   "metadata": {},
   "outputs": [
    {
     "data": {
      "text/plain": [
       "array([-0.04126918, -0.00842154,  0.0080952 , ..., -0.0076924 ,\n",
       "       -0.00978744, -0.01531339], dtype=float32)"
      ]
     },
     "execution_count": 50,
     "metadata": {},
     "output_type": "execute_result"
    }
   ],
   "source": [
    "s_pred_test1 = xgbm_final_model.predict(test1_encoded.values)\n",
    "s_pred_test1"
   ]
  },
  {
   "cell_type": "code",
   "execution_count": 56,
   "metadata": {},
   "outputs": [
    {
     "data": {
      "text/plain": [
       "array([-0.04126918, -0.00842154,  0.0080952 , ..., -0.0076924 ,\n",
       "       -0.00978744, -0.01531339], dtype=float32)"
      ]
     },
     "execution_count": 56,
     "metadata": {},
     "output_type": "execute_result"
    }
   ],
   "source": [
    "s_pred_test1 = dene.predict(test1_encoded.values)\n",
    "s_pred_test1"
   ]
  },
  {
   "cell_type": "code",
   "execution_count": null,
   "metadata": {},
   "outputs": [],
   "source": []
  }
 ],
 "metadata": {
  "kernelspec": {
   "display_name": "Python 3",
   "language": "python",
   "name": "python3"
  },
  "language_info": {
   "codemirror_mode": {
    "name": "ipython",
    "version": 3
   },
   "file_extension": ".py",
   "mimetype": "text/x-python",
   "name": "python",
   "nbconvert_exporter": "python",
   "pygments_lexer": "ipython3",
   "version": "3.7.9"
  }
 },
 "nbformat": 4,
 "nbformat_minor": 4
}
