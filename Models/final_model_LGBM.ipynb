{
 "cells": [
  {
   "cell_type": "code",
   "execution_count": 1,
   "metadata": {},
   "outputs": [],
   "source": [
    "from rdkit import Chem\n",
    "from rdkit.Chem import AllChem\n",
    "\n",
    "def get_ecfc(smiles_list, radius=2, nBits=2048, useCounts=True):\n",
    "    \"\"\"\n",
    "    Calculates the ECFP fingerprint for given SMILES list\n",
    "    \n",
    "    :param smiles_list: List of SMILES\n",
    "    :type smiles_list: list\n",
    "    :param radius: The ECPF fingerprints radius.\n",
    "    :type radius: int\n",
    "    :param nBits: The number of bits of the fingerprint vector.\n",
    "    :type nBits: int\n",
    "    :param useCounts: Use count vector or bit vector.\n",
    "    :type useCounts: bool\n",
    "    :returns: The calculated ECPF fingerprints for the given SMILES\n",
    "    :rtype: Dataframe\n",
    "    \"\"\"     \n",
    "    \n",
    "    ecfp_fingerprints=[]\n",
    "    erroneous_smiles=[]\n",
    "    for smiles in smiles_list:\n",
    "        mol=Chem.MolFromSmiles(smiles)\n",
    "        if mol is None:\n",
    "            ecfp_fingerprints.append([None]*nBits)\n",
    "            erroneous_smiles.append(smiles)\n",
    "        else:\n",
    "            mol=Chem.AddHs(mol)\n",
    "            if useCounts:\n",
    "                ecfp_fingerprints.append(list(AllChem.GetHashedMorganFingerprint(mol, radius, nBits)))  \n",
    "            else:    \n",
    "                ecfp_fingerprints.append(list(AllChem.GetMorganFingerprintAsBitVect(mol, radius, nBits).ToBitString()))  \n",
    "    \n",
    "    # Create dataframe of fingerprints\n",
    "    df_ecfp_fingerprints = pd.DataFrame(data = ecfp_fingerprints, index = smiles_list)\n",
    "    # Remove erroneous data\n",
    "    if len(erroneous_smiles)>0:\n",
    "        print(\"The following erroneous SMILES have been found in the data:\\n{}.\\nThe erroneous SMILES will be removed from the data.\".format('\\n'.join(map(str, erroneous_smiles))))           \n",
    "        df_ecfp_fingerprints = df_ecfp_fingerprints.dropna(how='any')    \n",
    "    \n",
    "    return df_ecfp_fingerprints"
   ]
  },
  {
   "cell_type": "code",
   "execution_count": 2,
   "metadata": {},
   "outputs": [],
   "source": [
    "from sklearn.model_selection import train_test_split\n",
    "import numpy as np \n",
    "import pandas as pd"
   ]
  },
  {
   "cell_type": "code",
   "execution_count": 3,
   "metadata": {},
   "outputs": [],
   "source": [
    "#Get and Arrange data\n",
    "import pandas as pd\n",
    "df_data= pd.read_csv('all_data.csv')\n",
    "\n",
    "train_data = df_data[df_data['data_type'] == 0]\n",
    "test1_data = df_data[df_data['data_type'] == 1]\n",
    "test2_data = df_data[df_data['data_type'] == 2]"
   ]
  },
  {
   "cell_type": "code",
   "execution_count": 4,
   "metadata": {},
   "outputs": [],
   "source": [
    "train_encoded = get_ecfc(train_data[\"reactant_smiles\"])\n",
    "test1_encoded = get_ecfc(test1_data[\"reactant_smiles\"])\n",
    "test2_encoded = get_ecfc(test2_data[\"reactant_smiles\"])"
   ]
  },
  {
   "cell_type": "code",
   "execution_count": 5,
   "metadata": {},
   "outputs": [],
   "source": [
    "# def modeling(train_data, test1_data, test2_data, encoder, model):  - After deciding the list of the smiles\n",
    "\n",
    "def modeling(train_encoded, test1_encoded, test2_encoded, model):\n",
    "    \n",
    "    from sklearn.metrics import r2_score, mean_absolute_error, mean_squared_error\n",
    "    import time\n",
    "    start_time = time.time()\n",
    "    \n",
    "    # Training\n",
    "    X = train_encoded\n",
    "    y = train_data['reaction_energy']\n",
    "    \n",
    "    model.fit(X.values, y)\n",
    "    \n",
    "    # Predicting\n",
    "    pred_train = model.predict(train_encoded.values)\n",
    "    pred_test1 = model.predict(test1_encoded.values)\n",
    "    pred_test2 = model.predict(test2_encoded.values)\n",
    "    \n",
    "    \n",
    "    # Scores of Train Data \n",
    "    tr_mae = mean_absolute_error(y, pred_train)\n",
    "    tr_rmse = mean_squared_error(y ,pred_train , squared=False)\n",
    "    tr_r2 = r2_score(y, pred_train)\n",
    "    print('##########################  Scores of Train Data  ##########################')\n",
    "    print('Train set MAE of {}: {:.3f}'.format(model, tr_mae))\n",
    "    print('Train set RMSE of {}: {:.3f}'.format(model, tr_rmse))\n",
    "    print('Train set R2 Score of {}: {:.3f}'.format(model, tr_r2))\n",
    "    \n",
    "    print(\"----------------------------------------------------------------------------\")\n",
    "    \n",
    "    # Test1 Data\n",
    "    test1_mae = mean_absolute_error(test1_data['reaction_energy'], pred_test1)\n",
    "    test1_rmse = mean_squared_error(test1_data['reaction_energy'], pred_test1, squared=False)\n",
    "    test1_r2 = r2_score(test1_data['reaction_energy'], pred_test1)\n",
    "    print('##########################  Scores of Test1 Data  ##########################')\n",
    "    print('Test1 set MAE of {}: {:.3f}'.format(model, test1_mae))\n",
    "    print('Test1 set RMSE of {}: {:.3f}'.format(model, test1_rmse))\n",
    "    print('Test1 set R2 Score of {}: {:.3f}'.format(model, test1_r2))\n",
    "    \n",
    "    print(\"----------------------------------------------------------------------------\")\n",
    "    \n",
    "    # Test2 Data\n",
    "    test2_mae = mean_absolute_error(test2_data['reaction_energy'], pred_test2)\n",
    "    test2_rmse = mean_squared_error(test2_data['reaction_energy'], pred_test2, squared=False)\n",
    "    test2_r2 = r2_score(test2_data['reaction_energy'], pred_test2)\n",
    "    print('##########################  Scores of Test2 Data  ##########################')\n",
    "    print('Test2 set MAE of {}: {:.3f}'.format(model, test2_mae))\n",
    "    print('Test2 set RMSE of {}: {:.3f}'.format(model, test2_rmse))\n",
    "    print('Test2 set R2 Score of {}: {:.3f}'.format(model, test2_r2))\n",
    "    \n",
    "    print(\"----------------------------------------------------------------------------\")\n",
    "\n",
    "    elapsed_time = time.time() - start_time\n",
    "    print('##########################  Details  ##########################')\n",
    "    print(f'{elapsed_time:.2f}s elapsed during modeling')"
   ]
  },
  {
   "cell_type": "code",
   "execution_count": null,
   "metadata": {},
   "outputs": [],
   "source": []
  },
  {
   "cell_type": "markdown",
   "metadata": {},
   "source": [
    "# INITIAL RUNNING"
   ]
  },
  {
   "cell_type": "code",
   "execution_count": 6,
   "metadata": {},
   "outputs": [
    {
     "name": "stdout",
     "output_type": "stream",
     "text": [
      "##########################  Scores of Train Data  ##########################\n",
      "Train set MAE of LGBMRegressor(random_state=1): 0.004\n",
      "Train set RMSE of LGBMRegressor(random_state=1): 0.007\n",
      "Train set R2 Score of LGBMRegressor(random_state=1): 0.968\n",
      "----------------------------------------------------------------------------\n",
      "##########################  Scores of Test1 Data  ##########################\n",
      "Test1 set MAE of LGBMRegressor(random_state=1): 0.004\n",
      "Test1 set RMSE of LGBMRegressor(random_state=1): 0.008\n",
      "Test1 set R2 Score of LGBMRegressor(random_state=1): 0.964\n",
      "----------------------------------------------------------------------------\n",
      "##########################  Scores of Test2 Data  ##########################\n",
      "Test2 set MAE of LGBMRegressor(random_state=1): 0.009\n",
      "Test2 set RMSE of LGBMRegressor(random_state=1): 0.011\n",
      "Test2 set R2 Score of LGBMRegressor(random_state=1): 0.845\n",
      "----------------------------------------------------------------------------\n",
      "##########################  Details  ##########################\n",
      "2.28s elapsed during modeling\n"
     ]
    }
   ],
   "source": [
    "import lightgbm as lgbm\n",
    "\n",
    "# Model\n",
    "model = lgbm.LGBMRegressor(random_state=1)\n",
    "\n",
    "# Training\n",
    "modeling(train_encoded=train_encoded, test1_encoded=test1_encoded, test2_encoded=test2_encoded, model=model)"
   ]
  },
  {
   "cell_type": "code",
   "execution_count": null,
   "metadata": {},
   "outputs": [],
   "source": [
    "0.004\t0.007\t0.968\t\t0.004\t0.008\t0.964\t\t0.009\t0.011\t0.845"
   ]
  },
  {
   "cell_type": "code",
   "execution_count": null,
   "metadata": {},
   "outputs": [],
   "source": []
  },
  {
   "cell_type": "markdown",
   "metadata": {},
   "source": [
    "# Best without FS"
   ]
  },
  {
   "cell_type": "code",
   "execution_count": null,
   "metadata": {},
   "outputs": [],
   "source": []
  },
  {
   "cell_type": "markdown",
   "metadata": {},
   "source": [
    "### 1- Final Best without FS -----------> Best: 0.956932 using {'lambda_l1': 0.0, 'lambda_l2': 0.4, 'learning_rate': 0.05, 'min_data_in_leaf': 20, 'num_leaves': 49}"
   ]
  },
  {
   "cell_type": "code",
   "execution_count": null,
   "metadata": {},
   "outputs": [],
   "source": [
    "Best: 0.956932 using {'lambda_l1': 0.0, 'lambda_l2': 0.4, 'learning_rate': 0.05, 'min_data_in_leaf': 20, 'num_leaves': 49}"
   ]
  },
  {
   "cell_type": "code",
   "execution_count": 28,
   "metadata": {},
   "outputs": [
    {
     "name": "stdout",
     "output_type": "stream",
     "text": [
      "##########################  Scores of Train Data  ##########################\n",
      "Train set MAE of LGBMRegressor(lambda_l1=0.0, lambda_l2=0.4, learning_rate=0.05,\n",
      "              min_data_in_leaf=20, num_leaves=49, random_state=1): 0.004\n",
      "Train set RMSE of LGBMRegressor(lambda_l1=0.0, lambda_l2=0.4, learning_rate=0.05,\n",
      "              min_data_in_leaf=20, num_leaves=49, random_state=1): 0.008\n",
      "Train set R2 Score of LGBMRegressor(lambda_l1=0.0, lambda_l2=0.4, learning_rate=0.05,\n",
      "              min_data_in_leaf=20, num_leaves=49, random_state=1): 0.964\n",
      "----------------------------------------------------------------------------\n",
      "##########################  Scores of Test1 Data  ##########################\n",
      "Test1 set MAE of LGBMRegressor(lambda_l1=0.0, lambda_l2=0.4, learning_rate=0.05,\n",
      "              min_data_in_leaf=20, num_leaves=49, random_state=1): 0.005\n",
      "Test1 set RMSE of LGBMRegressor(lambda_l1=0.0, lambda_l2=0.4, learning_rate=0.05,\n",
      "              min_data_in_leaf=20, num_leaves=49, random_state=1): 0.008\n",
      "Test1 set R2 Score of LGBMRegressor(lambda_l1=0.0, lambda_l2=0.4, learning_rate=0.05,\n",
      "              min_data_in_leaf=20, num_leaves=49, random_state=1): 0.962\n",
      "----------------------------------------------------------------------------\n",
      "##########################  Scores of Test2 Data  ##########################\n",
      "Test2 set MAE of LGBMRegressor(lambda_l1=0.0, lambda_l2=0.4, learning_rate=0.05,\n",
      "              min_data_in_leaf=20, num_leaves=49, random_state=1): 0.010\n",
      "Test2 set RMSE of LGBMRegressor(lambda_l1=0.0, lambda_l2=0.4, learning_rate=0.05,\n",
      "              min_data_in_leaf=20, num_leaves=49, random_state=1): 0.014\n",
      "Test2 set R2 Score of LGBMRegressor(lambda_l1=0.0, lambda_l2=0.4, learning_rate=0.05,\n",
      "              min_data_in_leaf=20, num_leaves=49, random_state=1): 0.755\n",
      "----------------------------------------------------------------------------\n",
      "##########################  Details  ##########################\n",
      "1.65s elapsed during modeling\n"
     ]
    }
   ],
   "source": [
    "import lightgbm as lgbm\n",
    "\n",
    "# Model\n",
    "model = lgbm.LGBMRegressor(random_state=1, lambda_l1=0.0, lambda_l2=0.4, learning_rate=0.05, min_data_in_leaf=20, num_leaves=49)\n",
    "\n",
    "# Training\n",
    "modeling(train_encoded=train_encoded, test1_encoded=test1_encoded, test2_encoded=test2_encoded, model=model)"
   ]
  },
  {
   "cell_type": "code",
   "execution_count": null,
   "metadata": {},
   "outputs": [],
   "source": [
    "0.004\t0.007\t0.968\t\t0.004\t0.008\t0.964\t\t0.009\t0.011\t0.845"
   ]
  },
  {
   "cell_type": "code",
   "execution_count": null,
   "metadata": {},
   "outputs": [],
   "source": []
  },
  {
   "cell_type": "code",
   "execution_count": null,
   "metadata": {},
   "outputs": [],
   "source": []
  },
  {
   "cell_type": "code",
   "execution_count": null,
   "metadata": {},
   "outputs": [],
   "source": []
  },
  {
   "cell_type": "code",
   "execution_count": null,
   "metadata": {},
   "outputs": [],
   "source": []
  },
  {
   "cell_type": "markdown",
   "metadata": {},
   "source": [
    "# Experiment 1"
   ]
  },
  {
   "cell_type": "code",
   "execution_count": null,
   "metadata": {},
   "outputs": [],
   "source": [
    "1- Best: 0.956917 using {'lambda_l1': 0.0, 'lambda_l2': 0.6, 'learning_rate': 0.05, 'min_data_in_leaf': 20, 'num_leaves': 49}"
   ]
  },
  {
   "cell_type": "code",
   "execution_count": 22,
   "metadata": {
    "collapsed": true,
    "jupyter": {
     "outputs_hidden": true
    }
   },
   "outputs": [
    {
     "name": "stdout",
     "output_type": "stream",
     "text": [
      "##########################  Scores of Train Data  ##########################\n",
      "Train set MAE of LGBMRegressor(lambda_l1=0.0, lambda_l2=0.6, learning_rate=0.05,\n",
      "              min_data_in_leaf=20, num_leaves=49, random_state=1): 0.004\n",
      "Train set RMSE of LGBMRegressor(lambda_l1=0.0, lambda_l2=0.6, learning_rate=0.05,\n",
      "              min_data_in_leaf=20, num_leaves=49, random_state=1): 0.008\n",
      "Train set R2 Score of LGBMRegressor(lambda_l1=0.0, lambda_l2=0.6, learning_rate=0.05,\n",
      "              min_data_in_leaf=20, num_leaves=49, random_state=1): 0.964\n",
      "----------------------------------------------------------------------------\n",
      "##########################  Scores of Test1 Data  ##########################\n",
      "Test1 set MAE of LGBMRegressor(lambda_l1=0.0, lambda_l2=0.6, learning_rate=0.05,\n",
      "              min_data_in_leaf=20, num_leaves=49, random_state=1): 0.005\n",
      "Test1 set RMSE of LGBMRegressor(lambda_l1=0.0, lambda_l2=0.6, learning_rate=0.05,\n",
      "              min_data_in_leaf=20, num_leaves=49, random_state=1): 0.008\n",
      "Test1 set R2 Score of LGBMRegressor(lambda_l1=0.0, lambda_l2=0.6, learning_rate=0.05,\n",
      "              min_data_in_leaf=20, num_leaves=49, random_state=1): 0.961\n",
      "----------------------------------------------------------------------------\n",
      "##########################  Scores of Test2 Data  ##########################\n",
      "Test2 set MAE of LGBMRegressor(lambda_l1=0.0, lambda_l2=0.6, learning_rate=0.05,\n",
      "              min_data_in_leaf=20, num_leaves=49, random_state=1): 0.011\n",
      "Test2 set RMSE of LGBMRegressor(lambda_l1=0.0, lambda_l2=0.6, learning_rate=0.05,\n",
      "              min_data_in_leaf=20, num_leaves=49, random_state=1): 0.015\n",
      "Test2 set R2 Score of LGBMRegressor(lambda_l1=0.0, lambda_l2=0.6, learning_rate=0.05,\n",
      "              min_data_in_leaf=20, num_leaves=49, random_state=1): 0.722\n",
      "----------------------------------------------------------------------------\n",
      "##########################  Details  ##########################\n",
      "1.62s elapsed during modeling\n"
     ]
    }
   ],
   "source": [
    "import lightgbm as lgbm\n",
    "\n",
    "# Model\n",
    "model = lgbm.LGBMRegressor(random_state=1, lambda_l1=0.0, lambda_l2=0.6, learning_rate=0.05, min_data_in_leaf=20, num_leaves=49)\n",
    "\n",
    "# Training\n",
    "modeling(train_encoded=train_encoded, test1_encoded=test1_encoded, test2_encoded=test2_encoded, model=model)"
   ]
  },
  {
   "cell_type": "code",
   "execution_count": null,
   "metadata": {},
   "outputs": [],
   "source": [
    "0.004\t0.007\t0.968\t\t0.004\t0.008\t0.964\t\t0.009\t0.011\t0.845"
   ]
  },
  {
   "cell_type": "code",
   "execution_count": null,
   "metadata": {},
   "outputs": [],
   "source": [
    "##########################  Scores of Train Data  ##########################\n",
    "Train set MAE of LGBMRegressor(lambda_l1=0.0, lambda_l2=0.6, learning_rate=0.05,\n",
    "              min_data_in_leaf=20, num_leaves=49, random_state=1): 0.004\n",
    "Train set RMSE of LGBMRegressor(lambda_l1=0.0, lambda_l2=0.6, learning_rate=0.05,\n",
    "              min_data_in_leaf=20, num_leaves=49, random_state=1): 0.008\n",
    "Train set R2 Score of LGBMRegressor(lambda_l1=0.0, lambda_l2=0.6, learning_rate=0.05,\n",
    "              min_data_in_leaf=20, num_leaves=49, random_state=1): 0.964\n",
    "----------------------------------------------------------------------------\n",
    "##########################  Scores of Test1 Data  ##########################\n",
    "Test1 set MAE of LGBMRegressor(lambda_l1=0.0, lambda_l2=0.6, learning_rate=0.05,\n",
    "              min_data_in_leaf=20, num_leaves=49, random_state=1): 0.005\n",
    "Test1 set RMSE of LGBMRegressor(lambda_l1=0.0, lambda_l2=0.6, learning_rate=0.05,\n",
    "              min_data_in_leaf=20, num_leaves=49, random_state=1): 0.008\n",
    "Test1 set R2 Score of LGBMRegressor(lambda_l1=0.0, lambda_l2=0.6, learning_rate=0.05,\n",
    "              min_data_in_leaf=20, num_leaves=49, random_state=1): 0.961\n",
    "----------------------------------------------------------------------------\n",
    "##########################  Scores of Test2 Data  ##########################\n",
    "Test2 set MAE of LGBMRegressor(lambda_l1=0.0, lambda_l2=0.6, learning_rate=0.05,\n",
    "              min_data_in_leaf=20, num_leaves=49, random_state=1): 0.011\n",
    "Test2 set RMSE of LGBMRegressor(lambda_l1=0.0, lambda_l2=0.6, learning_rate=0.05,\n",
    "              min_data_in_leaf=20, num_leaves=49, random_state=1): 0.015\n",
    "Test2 set R2 Score of LGBMRegressor(lambda_l1=0.0, lambda_l2=0.6, learning_rate=0.05,\n",
    "              min_data_in_leaf=20, num_leaves=49, random_state=1): 0.722\n",
    "----------------------------------------------------------------------------\n",
    "##########################  Details  ##########################\n",
    "1.62s elapsed during modeling"
   ]
  },
  {
   "cell_type": "markdown",
   "metadata": {},
   "source": [
    "# Experiment 2"
   ]
  },
  {
   "cell_type": "code",
   "execution_count": null,
   "metadata": {},
   "outputs": [],
   "source": [
    "2- Best: 0.956943 using {'lambda_l1': 0.0, 'lambda_l2': 0.1, 'learning_rate': 0.1, 'min_data_in_leaf': 20, 'num_leaves': 49}"
   ]
  },
  {
   "cell_type": "code",
   "execution_count": 36,
   "metadata": {
    "collapsed": true,
    "jupyter": {
     "outputs_hidden": true
    }
   },
   "outputs": [
    {
     "name": "stdout",
     "output_type": "stream",
     "text": [
      "##########################  Scores of Train Data  ##########################\n",
      "Train set MAE of LGBMRegressor(lambda_l1=0.0, lambda_l2=0.1, min_data_in_leaf=20, num_leaves=49,\n",
      "              random_state=1): 0.003\n",
      "Train set RMSE of LGBMRegressor(lambda_l1=0.0, lambda_l2=0.1, min_data_in_leaf=20, num_leaves=49,\n",
      "              random_state=1): 0.006\n",
      "Train set R2 Score of LGBMRegressor(lambda_l1=0.0, lambda_l2=0.1, min_data_in_leaf=20, num_leaves=49,\n",
      "              random_state=1): 0.974\n",
      "----------------------------------------------------------------------------\n",
      "##########################  Scores of Test1 Data  ##########################\n",
      "Test1 set MAE of LGBMRegressor(lambda_l1=0.0, lambda_l2=0.1, min_data_in_leaf=20, num_leaves=49,\n",
      "              random_state=1): 0.004\n",
      "Test1 set RMSE of LGBMRegressor(lambda_l1=0.0, lambda_l2=0.1, min_data_in_leaf=20, num_leaves=49,\n",
      "              random_state=1): 0.007\n",
      "Test1 set R2 Score of LGBMRegressor(lambda_l1=0.0, lambda_l2=0.1, min_data_in_leaf=20, num_leaves=49,\n",
      "              random_state=1): 0.967\n",
      "----------------------------------------------------------------------------\n",
      "##########################  Scores of Test2 Data  ##########################\n",
      "Test2 set MAE of LGBMRegressor(lambda_l1=0.0, lambda_l2=0.1, min_data_in_leaf=20, num_leaves=49,\n",
      "              random_state=1): 0.009\n",
      "Test2 set RMSE of LGBMRegressor(lambda_l1=0.0, lambda_l2=0.1, min_data_in_leaf=20, num_leaves=49,\n",
      "              random_state=1): 0.012\n",
      "Test2 set R2 Score of LGBMRegressor(lambda_l1=0.0, lambda_l2=0.1, min_data_in_leaf=20, num_leaves=49,\n",
      "              random_state=1): 0.826\n",
      "----------------------------------------------------------------------------\n",
      "##########################  Details  ##########################\n",
      "1.74s elapsed during modeling\n"
     ]
    }
   ],
   "source": [
    "import lightgbm as lgbm\n",
    "\n",
    "# Model\n",
    "model = lgbm.LGBMRegressor(random_state=1, lambda_l1=0.0, lambda_l2=0.1, learning_rate=0.1, min_data_in_leaf=20, num_leaves=49)\n",
    "\n",
    "# Training\n",
    "modeling(train_encoded=train_encoded, test1_encoded=test1_encoded, test2_encoded=test2_encoded, model=model)"
   ]
  },
  {
   "cell_type": "code",
   "execution_count": null,
   "metadata": {},
   "outputs": [],
   "source": [
    "0.004\t0.007\t0.968\t\t0.004\t0.008\t0.964\t\t0.009\t0.011\t0.845"
   ]
  },
  {
   "cell_type": "code",
   "execution_count": null,
   "metadata": {},
   "outputs": [],
   "source": [
    "##########################  Scores of Train Data  ##########################\n",
    "Train set MAE of LGBMRegressor(lambda_l1=0.0, lambda_l2=0.1, min_data_in_leaf=20, num_leaves=49,\n",
    "              random_state=1): 0.003\n",
    "Train set RMSE of LGBMRegressor(lambda_l1=0.0, lambda_l2=0.1, min_data_in_leaf=20, num_leaves=49,\n",
    "              random_state=1): 0.006\n",
    "Train set R2 Score of LGBMRegressor(lambda_l1=0.0, lambda_l2=0.1, min_data_in_leaf=20, num_leaves=49,\n",
    "              random_state=1): 0.974\n",
    "----------------------------------------------------------------------------\n",
    "##########################  Scores of Test1 Data  ##########################\n",
    "Test1 set MAE of LGBMRegressor(lambda_l1=0.0, lambda_l2=0.1, min_data_in_leaf=20, num_leaves=49,\n",
    "              random_state=1): 0.004\n",
    "Test1 set RMSE of LGBMRegressor(lambda_l1=0.0, lambda_l2=0.1, min_data_in_leaf=20, num_leaves=49,\n",
    "              random_state=1): 0.007\n",
    "Test1 set R2 Score of LGBMRegressor(lambda_l1=0.0, lambda_l2=0.1, min_data_in_leaf=20, num_leaves=49,\n",
    "              random_state=1): 0.967\n",
    "----------------------------------------------------------------------------\n",
    "##########################  Scores of Test2 Data  ##########################\n",
    "Test2 set MAE of LGBMRegressor(lambda_l1=0.0, lambda_l2=0.1, min_data_in_leaf=20, num_leaves=49,\n",
    "              random_state=1): 0.009\n",
    "Test2 set RMSE of LGBMRegressor(lambda_l1=0.0, lambda_l2=0.1, min_data_in_leaf=20, num_leaves=49,\n",
    "              random_state=1): 0.012\n",
    "Test2 set R2 Score of LGBMRegressor(lambda_l1=0.0, lambda_l2=0.1, min_data_in_leaf=20, num_leaves=49,\n",
    "              random_state=1): 0.826\n",
    "----------------------------------------------------------------------------\n",
    "##########################  Details  ##########################\n",
    "1.74s elapsed during modeling"
   ]
  },
  {
   "cell_type": "markdown",
   "metadata": {},
   "source": [
    "# Experiment 3"
   ]
  },
  {
   "cell_type": "code",
   "execution_count": null,
   "metadata": {},
   "outputs": [],
   "source": [
    "3- Best: 0.956932 using {'lambda_l1': 0.0, 'lambda_l2': 0.4, 'learning_rate': 0.05, 'min_data_in_leaf': 20, 'num_leaves': 49}"
   ]
  },
  {
   "cell_type": "code",
   "execution_count": null,
   "metadata": {},
   "outputs": [],
   "source": []
  },
  {
   "cell_type": "code",
   "execution_count": 37,
   "metadata": {
    "collapsed": true,
    "jupyter": {
     "outputs_hidden": true
    }
   },
   "outputs": [
    {
     "name": "stdout",
     "output_type": "stream",
     "text": [
      "##########################  Scores of Train Data  ##########################\n",
      "Train set MAE of LGBMRegressor(lambda_l1=0.0, lambda_l2=0.4, learning_rate=0.05,\n",
      "              min_data_in_leaf=20, num_leaves=49, random_state=1): 0.004\n",
      "Train set RMSE of LGBMRegressor(lambda_l1=0.0, lambda_l2=0.4, learning_rate=0.05,\n",
      "              min_data_in_leaf=20, num_leaves=49, random_state=1): 0.008\n",
      "Train set R2 Score of LGBMRegressor(lambda_l1=0.0, lambda_l2=0.4, learning_rate=0.05,\n",
      "              min_data_in_leaf=20, num_leaves=49, random_state=1): 0.964\n",
      "----------------------------------------------------------------------------\n",
      "##########################  Scores of Test1 Data  ##########################\n",
      "Test1 set MAE of LGBMRegressor(lambda_l1=0.0, lambda_l2=0.4, learning_rate=0.05,\n",
      "              min_data_in_leaf=20, num_leaves=49, random_state=1): 0.005\n",
      "Test1 set RMSE of LGBMRegressor(lambda_l1=0.0, lambda_l2=0.4, learning_rate=0.05,\n",
      "              min_data_in_leaf=20, num_leaves=49, random_state=1): 0.008\n",
      "Test1 set R2 Score of LGBMRegressor(lambda_l1=0.0, lambda_l2=0.4, learning_rate=0.05,\n",
      "              min_data_in_leaf=20, num_leaves=49, random_state=1): 0.962\n",
      "----------------------------------------------------------------------------\n",
      "##########################  Scores of Test2 Data  ##########################\n",
      "Test2 set MAE of LGBMRegressor(lambda_l1=0.0, lambda_l2=0.4, learning_rate=0.05,\n",
      "              min_data_in_leaf=20, num_leaves=49, random_state=1): 0.010\n",
      "Test2 set RMSE of LGBMRegressor(lambda_l1=0.0, lambda_l2=0.4, learning_rate=0.05,\n",
      "              min_data_in_leaf=20, num_leaves=49, random_state=1): 0.014\n",
      "Test2 set R2 Score of LGBMRegressor(lambda_l1=0.0, lambda_l2=0.4, learning_rate=0.05,\n",
      "              min_data_in_leaf=20, num_leaves=49, random_state=1): 0.755\n",
      "----------------------------------------------------------------------------\n",
      "##########################  Details  ##########################\n",
      "1.75s elapsed during modeling\n"
     ]
    }
   ],
   "source": [
    "import lightgbm as lgbm\n",
    "\n",
    "# Model\n",
    "model = lgbm.LGBMRegressor(random_state=1, lambda_l1=0.0, lambda_l2=0.4, learning_rate=0.05, min_data_in_leaf=20, num_leaves=49)\n",
    "\n",
    "# Training\n",
    "modeling(train_encoded=train_encoded, test1_encoded=test1_encoded, test2_encoded=test2_encoded, model=model)"
   ]
  },
  {
   "cell_type": "code",
   "execution_count": null,
   "metadata": {},
   "outputs": [],
   "source": [
    "##########################  Scores of Train Data  ##########################\n",
    "Train set MAE of LGBMRegressor(lambda_l1=0.0, lambda_l2=0.4, learning_rate=0.05,\n",
    "              min_data_in_leaf=20, num_leaves=49, random_state=1): 0.004\n",
    "Train set RMSE of LGBMRegressor(lambda_l1=0.0, lambda_l2=0.4, learning_rate=0.05,\n",
    "              min_data_in_leaf=20, num_leaves=49, random_state=1): 0.008\n",
    "Train set R2 Score of LGBMRegressor(lambda_l1=0.0, lambda_l2=0.4, learning_rate=0.05,\n",
    "              min_data_in_leaf=20, num_leaves=49, random_state=1): 0.964\n",
    "----------------------------------------------------------------------------\n",
    "##########################  Scores of Test1 Data  ##########################\n",
    "Test1 set MAE of LGBMRegressor(lambda_l1=0.0, lambda_l2=0.4, learning_rate=0.05,\n",
    "              min_data_in_leaf=20, num_leaves=49, random_state=1): 0.005\n",
    "Test1 set RMSE of LGBMRegressor(lambda_l1=0.0, lambda_l2=0.4, learning_rate=0.05,\n",
    "              min_data_in_leaf=20, num_leaves=49, random_state=1): 0.008\n",
    "Test1 set R2 Score of LGBMRegressor(lambda_l1=0.0, lambda_l2=0.4, learning_rate=0.05,\n",
    "              min_data_in_leaf=20, num_leaves=49, random_state=1): 0.962\n",
    "----------------------------------------------------------------------------\n",
    "##########################  Scores of Test2 Data  ##########################\n",
    "Test2 set MAE of LGBMRegressor(lambda_l1=0.0, lambda_l2=0.4, learning_rate=0.05,\n",
    "              min_data_in_leaf=20, num_leaves=49, random_state=1): 0.010\n",
    "Test2 set RMSE of LGBMRegressor(lambda_l1=0.0, lambda_l2=0.4, learning_rate=0.05,\n",
    "              min_data_in_leaf=20, num_leaves=49, random_state=1): 0.014\n",
    "Test2 set R2 Score of LGBMRegressor(lambda_l1=0.0, lambda_l2=0.4, learning_rate=0.05,\n",
    "              min_data_in_leaf=20, num_leaves=49, random_state=1): 0.755\n",
    "----------------------------------------------------------------------------\n",
    "##########################  Details  ##########################\n",
    "1.75s elapsed during modeling"
   ]
  },
  {
   "cell_type": "code",
   "execution_count": null,
   "metadata": {},
   "outputs": [],
   "source": []
  },
  {
   "cell_type": "code",
   "execution_count": null,
   "metadata": {},
   "outputs": [],
   "source": []
  },
  {
   "cell_type": "code",
   "execution_count": null,
   "metadata": {},
   "outputs": [],
   "source": []
  },
  {
   "cell_type": "markdown",
   "metadata": {},
   "source": [
    "--------------"
   ]
  },
  {
   "cell_type": "markdown",
   "metadata": {},
   "source": [
    "# Overfitting Problem "
   ]
  },
  {
   "cell_type": "code",
   "execution_count": null,
   "metadata": {},
   "outputs": [],
   "source": []
  },
  {
   "cell_type": "markdown",
   "metadata": {},
   "source": [
    "# 1. Experiment "
   ]
  },
  {
   "cell_type": "code",
   "execution_count": null,
   "metadata": {},
   "outputs": [],
   "source": [
    "Best: 0.953880 using {'lambda_l1': 0.0, 'lambda_l2': 0.2, 'learning_rate': 0.1, 'max_depth': 7, 'min_data_in_leaf': 20}"
   ]
  },
  {
   "cell_type": "code",
   "execution_count": 47,
   "metadata": {
    "collapsed": true,
    "jupyter": {
     "outputs_hidden": true
    }
   },
   "outputs": [
    {
     "name": "stdout",
     "output_type": "stream",
     "text": [
      "##########################  Scores of Train Data  ##########################\n",
      "Train set MAE of LGBMRegressor(lambda_l1=0.0, lambda_l2=0.2, max_depth=7, min_data_in_leaf=20,\n",
      "              random_state=1): 0.004\n",
      "Train set RMSE of LGBMRegressor(lambda_l1=0.0, lambda_l2=0.2, max_depth=7, min_data_in_leaf=20,\n",
      "              random_state=1): 0.008\n",
      "Train set R2 Score of LGBMRegressor(lambda_l1=0.0, lambda_l2=0.2, max_depth=7, min_data_in_leaf=20,\n",
      "              random_state=1): 0.961\n",
      "----------------------------------------------------------------------------\n",
      "##########################  Scores of Test1 Data  ##########################\n",
      "Test1 set MAE of LGBMRegressor(lambda_l1=0.0, lambda_l2=0.2, max_depth=7, min_data_in_leaf=20,\n",
      "              random_state=1): 0.005\n",
      "Test1 set RMSE of LGBMRegressor(lambda_l1=0.0, lambda_l2=0.2, max_depth=7, min_data_in_leaf=20,\n",
      "              random_state=1): 0.008\n",
      "Test1 set R2 Score of LGBMRegressor(lambda_l1=0.0, lambda_l2=0.2, max_depth=7, min_data_in_leaf=20,\n",
      "              random_state=1): 0.959\n",
      "----------------------------------------------------------------------------\n",
      "##########################  Scores of Test2 Data  ##########################\n",
      "Test2 set MAE of LGBMRegressor(lambda_l1=0.0, lambda_l2=0.2, max_depth=7, min_data_in_leaf=20,\n",
      "              random_state=1): 0.009\n",
      "Test2 set RMSE of LGBMRegressor(lambda_l1=0.0, lambda_l2=0.2, max_depth=7, min_data_in_leaf=20,\n",
      "              random_state=1): 0.011\n",
      "Test2 set R2 Score of LGBMRegressor(lambda_l1=0.0, lambda_l2=0.2, max_depth=7, min_data_in_leaf=20,\n",
      "              random_state=1): 0.850\n",
      "----------------------------------------------------------------------------\n",
      "##########################  Details  ##########################\n",
      "1.48s elapsed during modeling\n"
     ]
    }
   ],
   "source": [
    "import lightgbm as lgbm\n",
    "\n",
    "# Model\n",
    "model = lgbm.LGBMRegressor(random_state=1, lambda_l1=0.0, lambda_l2=0.2, learning_rate=0.1, max_depth=7, min_data_in_leaf=20)\n",
    "\n",
    "# Training\n",
    "modeling(train_encoded=train_encoded, test1_encoded=test1_encoded, test2_encoded=test2_encoded, model=model)"
   ]
  },
  {
   "cell_type": "code",
   "execution_count": null,
   "metadata": {},
   "outputs": [],
   "source": [
    "0.004\t0.007\t0.968\t\t0.004\t0.008\t0.964\t\t0.009\t0.011\t0.845"
   ]
  },
  {
   "cell_type": "code",
   "execution_count": null,
   "metadata": {},
   "outputs": [],
   "source": [
    "##########################  Scores of Train Data  ##########################\n",
    "Train set MAE of LGBMRegressor(lambda_l1=0.0, lambda_l2=0.2, max_depth=7, min_data_in_leaf=20,\n",
    "              random_state=1): 0.004\n",
    "Train set RMSE of LGBMRegressor(lambda_l1=0.0, lambda_l2=0.2, max_depth=7, min_data_in_leaf=20,\n",
    "              random_state=1): 0.008\n",
    "Train set R2 Score of LGBMRegressor(lambda_l1=0.0, lambda_l2=0.2, max_depth=7, min_data_in_leaf=20,\n",
    "              random_state=1): 0.961\n",
    "----------------------------------------------------------------------------\n",
    "##########################  Scores of Test1 Data  ##########################\n",
    "Test1 set MAE of LGBMRegressor(lambda_l1=0.0, lambda_l2=0.2, max_depth=7, min_data_in_leaf=20,\n",
    "              random_state=1): 0.005\n",
    "Test1 set RMSE of LGBMRegressor(lambda_l1=0.0, lambda_l2=0.2, max_depth=7, min_data_in_leaf=20,\n",
    "              random_state=1): 0.008\n",
    "Test1 set R2 Score of LGBMRegressor(lambda_l1=0.0, lambda_l2=0.2, max_depth=7, min_data_in_leaf=20,\n",
    "              random_state=1): 0.959\n",
    "----------------------------------------------------------------------------\n",
    "##########################  Scores of Test2 Data  ##########################\n",
    "Test2 set MAE of LGBMRegressor(lambda_l1=0.0, lambda_l2=0.2, max_depth=7, min_data_in_leaf=20,\n",
    "              random_state=1): 0.009\n",
    "Test2 set RMSE of LGBMRegressor(lambda_l1=0.0, lambda_l2=0.2, max_depth=7, min_data_in_leaf=20,\n",
    "              random_state=1): 0.011\n",
    "Test2 set R2 Score of LGBMRegressor(lambda_l1=0.0, lambda_l2=0.2, max_depth=7, min_data_in_leaf=20,\n",
    "              random_state=1): 0.850\n",
    "----------------------------------------------------------------------------\n",
    "##########################  Details  ##########################\n",
    "1.48s elapsed during modeling"
   ]
  },
  {
   "cell_type": "code",
   "execution_count": null,
   "metadata": {},
   "outputs": [],
   "source": []
  },
  {
   "cell_type": "markdown",
   "metadata": {},
   "source": [
    "# 2. Experiment "
   ]
  },
  {
   "cell_type": "code",
   "execution_count": null,
   "metadata": {},
   "outputs": [],
   "source": [
    "Best: 0.953880 using {'lambda_l1': 0.0, 'lambda_l2': 0.2, 'learning_rate': 0.1, 'max_depth': 7}"
   ]
  },
  {
   "cell_type": "code",
   "execution_count": null,
   "metadata": {},
   "outputs": [],
   "source": [
    " "
   ]
  },
  {
   "cell_type": "code",
   "execution_count": 57,
   "metadata": {},
   "outputs": [
    {
     "name": "stdout",
     "output_type": "stream",
     "text": [
      "##########################  Scores of Train Data  ##########################\n",
      "Train set MAE of LGBMRegressor(lambda_l1=0.0, lambda_l2=0.2, max_depth=7, random_state=1): 0.004\n",
      "Train set RMSE of LGBMRegressor(lambda_l1=0.0, lambda_l2=0.2, max_depth=7, random_state=1): 0.008\n",
      "Train set R2 Score of LGBMRegressor(lambda_l1=0.0, lambda_l2=0.2, max_depth=7, random_state=1): 0.961\n",
      "----------------------------------------------------------------------------\n",
      "##########################  Scores of Test1 Data  ##########################\n",
      "Test1 set MAE of LGBMRegressor(lambda_l1=0.0, lambda_l2=0.2, max_depth=7, random_state=1): 0.005\n",
      "Test1 set RMSE of LGBMRegressor(lambda_l1=0.0, lambda_l2=0.2, max_depth=7, random_state=1): 0.008\n",
      "Test1 set R2 Score of LGBMRegressor(lambda_l1=0.0, lambda_l2=0.2, max_depth=7, random_state=1): 0.959\n",
      "----------------------------------------------------------------------------\n",
      "##########################  Scores of Test2 Data  ##########################\n",
      "Test2 set MAE of LGBMRegressor(lambda_l1=0.0, lambda_l2=0.2, max_depth=7, random_state=1): 0.009\n",
      "Test2 set RMSE of LGBMRegressor(lambda_l1=0.0, lambda_l2=0.2, max_depth=7, random_state=1): 0.011\n",
      "Test2 set R2 Score of LGBMRegressor(lambda_l1=0.0, lambda_l2=0.2, max_depth=7, random_state=1): 0.850\n",
      "----------------------------------------------------------------------------\n",
      "##########################  Details  ##########################\n",
      "1.40s elapsed during modeling\n"
     ]
    }
   ],
   "source": [
    "import lightgbm as lgbm\n",
    "\n",
    "# Model\n",
    "model = lgbm.LGBMRegressor(random_state=1, lambda_l1=0.0, lambda_l2=0.2, learning_rate=0.1, max_depth=7)\n",
    "\n",
    "# Training\n",
    "modeling(train_encoded=train_encoded, test1_encoded=test1_encoded, test2_encoded=test2_encoded, model=model)"
   ]
  },
  {
   "cell_type": "code",
   "execution_count": null,
   "metadata": {},
   "outputs": [],
   "source": []
  },
  {
   "cell_type": "code",
   "execution_count": null,
   "metadata": {},
   "outputs": [],
   "source": []
  },
  {
   "cell_type": "code",
   "execution_count": null,
   "metadata": {},
   "outputs": [],
   "source": []
  },
  {
   "cell_type": "code",
   "execution_count": null,
   "metadata": {},
   "outputs": [],
   "source": []
  },
  {
   "cell_type": "markdown",
   "metadata": {},
   "source": [
    "# FINAL MODEL"
   ]
  },
  {
   "cell_type": "code",
   "execution_count": null,
   "metadata": {},
   "outputs": [],
   "source": []
  },
  {
   "cell_type": "markdown",
   "metadata": {},
   "source": [
    "# 3. (LAST) Experiment "
   ]
  },
  {
   "cell_type": "code",
   "execution_count": null,
   "metadata": {},
   "outputs": [],
   "source": []
  },
  {
   "cell_type": "code",
   "execution_count": 13,
   "metadata": {},
   "outputs": [
    {
     "name": "stdout",
     "output_type": "stream",
     "text": [
      "##########################  Scores of Train Data  ##########################\n",
      "Train set MAE of LGBMRegressor(lambda_l2=0.2, max_depth=7, random_state=1): 0.004\n",
      "Train set RMSE of LGBMRegressor(lambda_l2=0.2, max_depth=7, random_state=1): 0.008\n",
      "Train set R2 Score of LGBMRegressor(lambda_l2=0.2, max_depth=7, random_state=1): 0.961\n",
      "----------------------------------------------------------------------------\n",
      "##########################  Scores of Test1 Data  ##########################\n",
      "Test1 set MAE of LGBMRegressor(lambda_l2=0.2, max_depth=7, random_state=1): 0.005\n",
      "Test1 set RMSE of LGBMRegressor(lambda_l2=0.2, max_depth=7, random_state=1): 0.008\n",
      "Test1 set R2 Score of LGBMRegressor(lambda_l2=0.2, max_depth=7, random_state=1): 0.959\n",
      "----------------------------------------------------------------------------\n",
      "##########################  Scores of Test2 Data  ##########################\n",
      "Test2 set MAE of LGBMRegressor(lambda_l2=0.2, max_depth=7, random_state=1): 0.009\n",
      "Test2 set RMSE of LGBMRegressor(lambda_l2=0.2, max_depth=7, random_state=1): 0.011\n",
      "Test2 set R2 Score of LGBMRegressor(lambda_l2=0.2, max_depth=7, random_state=1): 0.850\n",
      "----------------------------------------------------------------------------\n",
      "##########################  Details  ##########################\n",
      "1.58s elapsed during modeling\n"
     ]
    }
   ],
   "source": [
    "import lightgbm as lgbm\n",
    "\n",
    "# Model\n",
    "model = lgbm.LGBMRegressor(random_state=1, lambda_l2=0.2, learning_rate=0.1, max_depth=7, num_leaves=31)\n",
    "\n",
    "# Training\n",
    "modeling(train_encoded=train_encoded, test1_encoded=test1_encoded, test2_encoded=test2_encoded, model=model)"
   ]
  },
  {
   "cell_type": "code",
   "execution_count": null,
   "metadata": {},
   "outputs": [],
   "source": []
  },
  {
   "cell_type": "code",
   "execution_count": null,
   "metadata": {},
   "outputs": [],
   "source": []
  },
  {
   "cell_type": "code",
   "execution_count": 133,
   "metadata": {},
   "outputs": [
    {
     "data": {
      "text/plain": [
       "LGBMRegressor(lambda_l2=0.2, max_depth=7, random_state=1)"
      ]
     },
     "execution_count": 133,
     "metadata": {},
     "output_type": "execute_result"
    }
   ],
   "source": [
    "model"
   ]
  },
  {
   "cell_type": "markdown",
   "metadata": {},
   "source": [
    "# Save Test1 and Test2 Preds"
   ]
  },
  {
   "cell_type": "code",
   "execution_count": null,
   "metadata": {},
   "outputs": [],
   "source": []
  },
  {
   "cell_type": "code",
   "execution_count": null,
   "metadata": {},
   "outputs": [],
   "source": []
  },
  {
   "cell_type": "code",
   "execution_count": null,
   "metadata": {},
   "outputs": [],
   "source": []
  },
  {
   "cell_type": "markdown",
   "metadata": {},
   "source": [
    "## For Test 1"
   ]
  },
  {
   "cell_type": "code",
   "execution_count": 89,
   "metadata": {},
   "outputs": [
    {
     "data": {
      "text/plain": [
       "array([-0.04543877, -0.01376934,  0.00165234, ..., -0.00923236,\n",
       "       -0.01095121, -0.01223837])"
      ]
     },
     "execution_count": 89,
     "metadata": {},
     "output_type": "execute_result"
    }
   ],
   "source": [
    "pred_test1 = model.predict(test1_encoded.values)\n",
    "pred_test1"
   ]
  },
  {
   "cell_type": "code",
   "execution_count": 90,
   "metadata": {},
   "outputs": [
    {
     "data": {
      "text/html": [
       "<div>\n",
       "<style scoped>\n",
       "    .dataframe tbody tr th:only-of-type {\n",
       "        vertical-align: middle;\n",
       "    }\n",
       "\n",
       "    .dataframe tbody tr th {\n",
       "        vertical-align: top;\n",
       "    }\n",
       "\n",
       "    .dataframe thead th {\n",
       "        text-align: right;\n",
       "    }\n",
       "</style>\n",
       "<table border=\"1\" class=\"dataframe\">\n",
       "  <thead>\n",
       "    <tr style=\"text-align: right;\">\n",
       "      <th></th>\n",
       "      <th>reaction_id</th>\n",
       "      <th>data_package_id</th>\n",
       "      <th>bond_type</th>\n",
       "      <th>functional_group_stoichiometry</th>\n",
       "      <th>reactant_smiles</th>\n",
       "      <th>product_smiles</th>\n",
       "      <th>reactant_inchiKey</th>\n",
       "      <th>product_inchiKey</th>\n",
       "      <th>reactant_solubility</th>\n",
       "      <th>product_solubility</th>\n",
       "      <th>...</th>\n",
       "      <th>product_single_point_job_id</th>\n",
       "      <th>reactant_optimization_job_id</th>\n",
       "      <th>product_optimization_job_id</th>\n",
       "      <th>UMAP-1</th>\n",
       "      <th>UMAP-2</th>\n",
       "      <th>data_type</th>\n",
       "      <th>reactantUFF</th>\n",
       "      <th>reactantMMFF</th>\n",
       "      <th>productUFF</th>\n",
       "      <th>productMMFF</th>\n",
       "    </tr>\n",
       "  </thead>\n",
       "  <tbody>\n",
       "    <tr>\n",
       "      <th>2</th>\n",
       "      <td>3</td>\n",
       "      <td>1</td>\n",
       "      <td>OH</td>\n",
       "      <td>COOH</td>\n",
       "      <td>O=C1CC(=O)C(C(=O)O)=C1C(=O)O</td>\n",
       "      <td>C1C(O)=C(C(=O)O)C(=C1O)C(=O)O</td>\n",
       "      <td>QLGSJNWSAMBDMI-UHFFFAOYSA-N</td>\n",
       "      <td>AEVQXUUICHCAGT-UHFFFAOYSA-N</td>\n",
       "      <td>-0.966</td>\n",
       "      <td>-0.867</td>\n",
       "      <td>...</td>\n",
       "      <td>26.0</td>\n",
       "      <td>19.0</td>\n",
       "      <td>25.0</td>\n",
       "      <td>13.362195</td>\n",
       "      <td>3.405288</td>\n",
       "      <td>1</td>\n",
       "      <td>33.280029</td>\n",
       "      <td>-113.415199</td>\n",
       "      <td>37.053325</td>\n",
       "      <td>-2.716193</td>\n",
       "    </tr>\n",
       "    <tr>\n",
       "      <th>3</th>\n",
       "      <td>4</td>\n",
       "      <td>1</td>\n",
       "      <td>OH</td>\n",
       "      <td>F</td>\n",
       "      <td>O=C1CC(=O)C=C1F</td>\n",
       "      <td>C1C(O)=C(F)C=C1O</td>\n",
       "      <td>XVCHEZRSXGJYDT-UHFFFAOYSA-N</td>\n",
       "      <td>LLYKNQJBRVSOKM-UHFFFAOYSA-N</td>\n",
       "      <td>-0.524</td>\n",
       "      <td>-0.499</td>\n",
       "      <td>...</td>\n",
       "      <td>34.0</td>\n",
       "      <td>21.0</td>\n",
       "      <td>33.0</td>\n",
       "      <td>14.856011</td>\n",
       "      <td>2.316219</td>\n",
       "      <td>1</td>\n",
       "      <td>23.112465</td>\n",
       "      <td>-12.882731</td>\n",
       "      <td>24.103198</td>\n",
       "      <td>34.474933</td>\n",
       "    </tr>\n",
       "    <tr>\n",
       "      <th>13</th>\n",
       "      <td>14</td>\n",
       "      <td>2</td>\n",
       "      <td>OH</td>\n",
       "      <td>NaN</td>\n",
       "      <td>O=C1NC(=O)C=C1</td>\n",
       "      <td>Oc1[nH]c(O)cc1</td>\n",
       "      <td>PEEHTFAAVSWFBL-UHFFFAOYSA-N</td>\n",
       "      <td>RDUFWJSALXDELV-UHFFFAOYSA-N</td>\n",
       "      <td>-0.533</td>\n",
       "      <td>-0.178</td>\n",
       "      <td>...</td>\n",
       "      <td>68.0</td>\n",
       "      <td>45.0</td>\n",
       "      <td>67.0</td>\n",
       "      <td>12.894115</td>\n",
       "      <td>1.835507</td>\n",
       "      <td>1</td>\n",
       "      <td>NaN</td>\n",
       "      <td>NaN</td>\n",
       "      <td>NaN</td>\n",
       "      <td>NaN</td>\n",
       "    </tr>\n",
       "    <tr>\n",
       "      <th>14</th>\n",
       "      <td>15</td>\n",
       "      <td>2</td>\n",
       "      <td>OH</td>\n",
       "      <td>F</td>\n",
       "      <td>O=C1NC(=O)C(F)=C1F</td>\n",
       "      <td>Oc1[nH]c(O)c(F)c1F</td>\n",
       "      <td>WGEANPDRAHQNMF-UHFFFAOYSA-N</td>\n",
       "      <td>WEWQBYWNWVSGIO-UHFFFAOYSA-N</td>\n",
       "      <td>-0.380</td>\n",
       "      <td>-0.439</td>\n",
       "      <td>...</td>\n",
       "      <td>84.0</td>\n",
       "      <td>65.0</td>\n",
       "      <td>83.0</td>\n",
       "      <td>13.093039</td>\n",
       "      <td>1.540677</td>\n",
       "      <td>1</td>\n",
       "      <td>35.312477</td>\n",
       "      <td>-37.025287</td>\n",
       "      <td>38.214080</td>\n",
       "      <td>15.840633</td>\n",
       "    </tr>\n",
       "    <tr>\n",
       "      <th>24</th>\n",
       "      <td>25</td>\n",
       "      <td>3</td>\n",
       "      <td>OH</td>\n",
       "      <td>COOH</td>\n",
       "      <td>O=C1SC(=O)C(C(=O)O)=C1C(=O)O</td>\n",
       "      <td>Oc1sc(O)c(C(=O)O)c1C(=O)O</td>\n",
       "      <td>OMUTVOCQJHSMBJ-UHFFFAOYSA-N</td>\n",
       "      <td>HHXTWZYEPJOJGQ-UHFFFAOYSA-N</td>\n",
       "      <td>-1.390</td>\n",
       "      <td>-1.031</td>\n",
       "      <td>...</td>\n",
       "      <td>120.0</td>\n",
       "      <td>103.0</td>\n",
       "      <td>119.0</td>\n",
       "      <td>13.202756</td>\n",
       "      <td>3.411132</td>\n",
       "      <td>1</td>\n",
       "      <td>36.602118</td>\n",
       "      <td>-146.179999</td>\n",
       "      <td>50.843455</td>\n",
       "      <td>-66.445944</td>\n",
       "    </tr>\n",
       "  </tbody>\n",
       "</table>\n",
       "<p>5 rows × 46 columns</p>\n",
       "</div>"
      ],
      "text/plain": [
       "    reaction_id  data_package_id bond_type functional_group_stoichiometry  \\\n",
       "2             3                1        OH                           COOH   \n",
       "3             4                1        OH                              F   \n",
       "13           14                2        OH                            NaN   \n",
       "14           15                2        OH                              F   \n",
       "24           25                3        OH                           COOH   \n",
       "\n",
       "                 reactant_smiles                 product_smiles  \\\n",
       "2   O=C1CC(=O)C(C(=O)O)=C1C(=O)O  C1C(O)=C(C(=O)O)C(=C1O)C(=O)O   \n",
       "3                O=C1CC(=O)C=C1F               C1C(O)=C(F)C=C1O   \n",
       "13                O=C1NC(=O)C=C1                 Oc1[nH]c(O)cc1   \n",
       "14            O=C1NC(=O)C(F)=C1F             Oc1[nH]c(O)c(F)c1F   \n",
       "24  O=C1SC(=O)C(C(=O)O)=C1C(=O)O      Oc1sc(O)c(C(=O)O)c1C(=O)O   \n",
       "\n",
       "              reactant_inchiKey             product_inchiKey  \\\n",
       "2   QLGSJNWSAMBDMI-UHFFFAOYSA-N  AEVQXUUICHCAGT-UHFFFAOYSA-N   \n",
       "3   XVCHEZRSXGJYDT-UHFFFAOYSA-N  LLYKNQJBRVSOKM-UHFFFAOYSA-N   \n",
       "13  PEEHTFAAVSWFBL-UHFFFAOYSA-N  RDUFWJSALXDELV-UHFFFAOYSA-N   \n",
       "14  WGEANPDRAHQNMF-UHFFFAOYSA-N  WEWQBYWNWVSGIO-UHFFFAOYSA-N   \n",
       "24  OMUTVOCQJHSMBJ-UHFFFAOYSA-N  HHXTWZYEPJOJGQ-UHFFFAOYSA-N   \n",
       "\n",
       "    reactant_solubility  product_solubility  ...  product_single_point_job_id  \\\n",
       "2                -0.966              -0.867  ...                         26.0   \n",
       "3                -0.524              -0.499  ...                         34.0   \n",
       "13               -0.533              -0.178  ...                         68.0   \n",
       "14               -0.380              -0.439  ...                         84.0   \n",
       "24               -1.390              -1.031  ...                        120.0   \n",
       "\n",
       "    reactant_optimization_job_id  product_optimization_job_id     UMAP-1  \\\n",
       "2                           19.0                         25.0  13.362195   \n",
       "3                           21.0                         33.0  14.856011   \n",
       "13                          45.0                         67.0  12.894115   \n",
       "14                          65.0                         83.0  13.093039   \n",
       "24                         103.0                        119.0  13.202756   \n",
       "\n",
       "      UMAP-2  data_type  reactantUFF  reactantMMFF  productUFF  productMMFF  \n",
       "2   3.405288          1    33.280029   -113.415199   37.053325    -2.716193  \n",
       "3   2.316219          1    23.112465    -12.882731   24.103198    34.474933  \n",
       "13  1.835507          1          NaN           NaN         NaN          NaN  \n",
       "14  1.540677          1    35.312477    -37.025287   38.214080    15.840633  \n",
       "24  3.411132          1    36.602118   -146.179999   50.843455   -66.445944  \n",
       "\n",
       "[5 rows x 46 columns]"
      ]
     },
     "execution_count": 90,
     "metadata": {},
     "output_type": "execute_result"
    }
   ],
   "source": [
    "test1_data.head()"
   ]
  },
  {
   "cell_type": "code",
   "execution_count": 91,
   "metadata": {},
   "outputs": [
    {
     "data": {
      "text/html": [
       "<div>\n",
       "<style scoped>\n",
       "    .dataframe tbody tr th:only-of-type {\n",
       "        vertical-align: middle;\n",
       "    }\n",
       "\n",
       "    .dataframe tbody tr th {\n",
       "        vertical-align: top;\n",
       "    }\n",
       "\n",
       "    .dataframe thead th {\n",
       "        text-align: right;\n",
       "    }\n",
       "</style>\n",
       "<table border=\"1\" class=\"dataframe\">\n",
       "  <thead>\n",
       "    <tr style=\"text-align: right;\">\n",
       "      <th></th>\n",
       "      <th>reaction_id</th>\n",
       "      <th>reactant_smiles</th>\n",
       "      <th>reaction_energy</th>\n",
       "    </tr>\n",
       "  </thead>\n",
       "  <tbody>\n",
       "    <tr>\n",
       "      <th>2</th>\n",
       "      <td>3</td>\n",
       "      <td>O=C1CC(=O)C(C(=O)O)=C1C(=O)O</td>\n",
       "      <td>-0.06394</td>\n",
       "    </tr>\n",
       "    <tr>\n",
       "      <th>3</th>\n",
       "      <td>4</td>\n",
       "      <td>O=C1CC(=O)C=C1F</td>\n",
       "      <td>-0.01642</td>\n",
       "    </tr>\n",
       "    <tr>\n",
       "      <th>13</th>\n",
       "      <td>14</td>\n",
       "      <td>O=C1NC(=O)C=C1</td>\n",
       "      <td>-0.00731</td>\n",
       "    </tr>\n",
       "    <tr>\n",
       "      <th>14</th>\n",
       "      <td>15</td>\n",
       "      <td>O=C1NC(=O)C(F)=C1F</td>\n",
       "      <td>-0.00118</td>\n",
       "    </tr>\n",
       "    <tr>\n",
       "      <th>24</th>\n",
       "      <td>25</td>\n",
       "      <td>O=C1SC(=O)C(C(=O)O)=C1C(=O)O</td>\n",
       "      <td>-0.06775</td>\n",
       "    </tr>\n",
       "    <tr>\n",
       "      <th>...</th>\n",
       "      <td>...</td>\n",
       "      <td>...</td>\n",
       "      <td>...</td>\n",
       "    </tr>\n",
       "    <tr>\n",
       "      <th>15759</th>\n",
       "      <td>15897</td>\n",
       "      <td>O=S(=O)(O)c(c1)cc(S(=O)(=O)O)c(c12)c(O)n(c2O)N...</td>\n",
       "      <td>-0.00215</td>\n",
       "    </tr>\n",
       "    <tr>\n",
       "      <th>15762</th>\n",
       "      <td>15900</td>\n",
       "      <td>c1cccc(c12)c(O)n(c2O)N(C3=O)C(=O)c(c34)c(S(=O)...</td>\n",
       "      <td>0.02162</td>\n",
       "    </tr>\n",
       "    <tr>\n",
       "      <th>15768</th>\n",
       "      <td>15906</td>\n",
       "      <td>O=S(=O)(O)c(c1)c(S(=O)(=O)O)c(S(=O)(=O)O)c(c12...</td>\n",
       "      <td>-0.01803</td>\n",
       "    </tr>\n",
       "    <tr>\n",
       "      <th>15788</th>\n",
       "      <td>15927</td>\n",
       "      <td>O=S(=O)(O)c1ccc(S(=O)(=O)O)c(c12)c(O)n(c2O)N(C...</td>\n",
       "      <td>-0.03881</td>\n",
       "    </tr>\n",
       "    <tr>\n",
       "      <th>15791</th>\n",
       "      <td>15930</td>\n",
       "      <td>O=S(=O)(O)c1c(S(=O)(=O)O)c(S(=O)(=O)O)c(S(=O)(...</td>\n",
       "      <td>0.00826</td>\n",
       "    </tr>\n",
       "  </tbody>\n",
       "</table>\n",
       "<p>1607 rows × 3 columns</p>\n",
       "</div>"
      ],
      "text/plain": [
       "       reaction_id                                    reactant_smiles  \\\n",
       "2                3                       O=C1CC(=O)C(C(=O)O)=C1C(=O)O   \n",
       "3                4                                    O=C1CC(=O)C=C1F   \n",
       "13              14                                     O=C1NC(=O)C=C1   \n",
       "14              15                                 O=C1NC(=O)C(F)=C1F   \n",
       "24              25                       O=C1SC(=O)C(C(=O)O)=C1C(=O)O   \n",
       "...            ...                                                ...   \n",
       "15759        15897  O=S(=O)(O)c(c1)cc(S(=O)(=O)O)c(c12)c(O)n(c2O)N...   \n",
       "15762        15900  c1cccc(c12)c(O)n(c2O)N(C3=O)C(=O)c(c34)c(S(=O)...   \n",
       "15768        15906  O=S(=O)(O)c(c1)c(S(=O)(=O)O)c(S(=O)(=O)O)c(c12...   \n",
       "15788        15927  O=S(=O)(O)c1ccc(S(=O)(=O)O)c(c12)c(O)n(c2O)N(C...   \n",
       "15791        15930  O=S(=O)(O)c1c(S(=O)(=O)O)c(S(=O)(=O)O)c(S(=O)(...   \n",
       "\n",
       "       reaction_energy  \n",
       "2             -0.06394  \n",
       "3             -0.01642  \n",
       "13            -0.00731  \n",
       "14            -0.00118  \n",
       "24            -0.06775  \n",
       "...                ...  \n",
       "15759         -0.00215  \n",
       "15762          0.02162  \n",
       "15768         -0.01803  \n",
       "15788         -0.03881  \n",
       "15791          0.00826  \n",
       "\n",
       "[1607 rows x 3 columns]"
      ]
     },
     "execution_count": 91,
     "metadata": {},
     "output_type": "execute_result"
    }
   ],
   "source": [
    "test1_data[[\"reaction_id\", \"reactant_smiles\", \"reaction_energy\"]]"
   ]
  },
  {
   "cell_type": "code",
   "execution_count": 118,
   "metadata": {},
   "outputs": [],
   "source": [
    "lgbm_result_test1 = test1_data[[\"reaction_id\", \"reactant_smiles\", \"reaction_energy\"]]"
   ]
  },
  {
   "cell_type": "code",
   "execution_count": 119,
   "metadata": {},
   "outputs": [
    {
     "data": {
      "text/html": [
       "<div>\n",
       "<style scoped>\n",
       "    .dataframe tbody tr th:only-of-type {\n",
       "        vertical-align: middle;\n",
       "    }\n",
       "\n",
       "    .dataframe tbody tr th {\n",
       "        vertical-align: top;\n",
       "    }\n",
       "\n",
       "    .dataframe thead th {\n",
       "        text-align: right;\n",
       "    }\n",
       "</style>\n",
       "<table border=\"1\" class=\"dataframe\">\n",
       "  <thead>\n",
       "    <tr style=\"text-align: right;\">\n",
       "      <th></th>\n",
       "      <th>reaction_id</th>\n",
       "      <th>reactant_smiles</th>\n",
       "      <th>reaction_energy</th>\n",
       "    </tr>\n",
       "  </thead>\n",
       "  <tbody>\n",
       "    <tr>\n",
       "      <th>2</th>\n",
       "      <td>3</td>\n",
       "      <td>O=C1CC(=O)C(C(=O)O)=C1C(=O)O</td>\n",
       "      <td>-0.06394</td>\n",
       "    </tr>\n",
       "    <tr>\n",
       "      <th>3</th>\n",
       "      <td>4</td>\n",
       "      <td>O=C1CC(=O)C=C1F</td>\n",
       "      <td>-0.01642</td>\n",
       "    </tr>\n",
       "    <tr>\n",
       "      <th>13</th>\n",
       "      <td>14</td>\n",
       "      <td>O=C1NC(=O)C=C1</td>\n",
       "      <td>-0.00731</td>\n",
       "    </tr>\n",
       "    <tr>\n",
       "      <th>14</th>\n",
       "      <td>15</td>\n",
       "      <td>O=C1NC(=O)C(F)=C1F</td>\n",
       "      <td>-0.00118</td>\n",
       "    </tr>\n",
       "    <tr>\n",
       "      <th>24</th>\n",
       "      <td>25</td>\n",
       "      <td>O=C1SC(=O)C(C(=O)O)=C1C(=O)O</td>\n",
       "      <td>-0.06775</td>\n",
       "    </tr>\n",
       "    <tr>\n",
       "      <th>...</th>\n",
       "      <td>...</td>\n",
       "      <td>...</td>\n",
       "      <td>...</td>\n",
       "    </tr>\n",
       "    <tr>\n",
       "      <th>15759</th>\n",
       "      <td>15897</td>\n",
       "      <td>O=S(=O)(O)c(c1)cc(S(=O)(=O)O)c(c12)c(O)n(c2O)N...</td>\n",
       "      <td>-0.00215</td>\n",
       "    </tr>\n",
       "    <tr>\n",
       "      <th>15762</th>\n",
       "      <td>15900</td>\n",
       "      <td>c1cccc(c12)c(O)n(c2O)N(C3=O)C(=O)c(c34)c(S(=O)...</td>\n",
       "      <td>0.02162</td>\n",
       "    </tr>\n",
       "    <tr>\n",
       "      <th>15768</th>\n",
       "      <td>15906</td>\n",
       "      <td>O=S(=O)(O)c(c1)c(S(=O)(=O)O)c(S(=O)(=O)O)c(c12...</td>\n",
       "      <td>-0.01803</td>\n",
       "    </tr>\n",
       "    <tr>\n",
       "      <th>15788</th>\n",
       "      <td>15927</td>\n",
       "      <td>O=S(=O)(O)c1ccc(S(=O)(=O)O)c(c12)c(O)n(c2O)N(C...</td>\n",
       "      <td>-0.03881</td>\n",
       "    </tr>\n",
       "    <tr>\n",
       "      <th>15791</th>\n",
       "      <td>15930</td>\n",
       "      <td>O=S(=O)(O)c1c(S(=O)(=O)O)c(S(=O)(=O)O)c(S(=O)(...</td>\n",
       "      <td>0.00826</td>\n",
       "    </tr>\n",
       "  </tbody>\n",
       "</table>\n",
       "<p>1607 rows × 3 columns</p>\n",
       "</div>"
      ],
      "text/plain": [
       "       reaction_id                                    reactant_smiles  \\\n",
       "2                3                       O=C1CC(=O)C(C(=O)O)=C1C(=O)O   \n",
       "3                4                                    O=C1CC(=O)C=C1F   \n",
       "13              14                                     O=C1NC(=O)C=C1   \n",
       "14              15                                 O=C1NC(=O)C(F)=C1F   \n",
       "24              25                       O=C1SC(=O)C(C(=O)O)=C1C(=O)O   \n",
       "...            ...                                                ...   \n",
       "15759        15897  O=S(=O)(O)c(c1)cc(S(=O)(=O)O)c(c12)c(O)n(c2O)N...   \n",
       "15762        15900  c1cccc(c12)c(O)n(c2O)N(C3=O)C(=O)c(c34)c(S(=O)...   \n",
       "15768        15906  O=S(=O)(O)c(c1)c(S(=O)(=O)O)c(S(=O)(=O)O)c(c12...   \n",
       "15788        15927  O=S(=O)(O)c1ccc(S(=O)(=O)O)c(c12)c(O)n(c2O)N(C...   \n",
       "15791        15930  O=S(=O)(O)c1c(S(=O)(=O)O)c(S(=O)(=O)O)c(S(=O)(...   \n",
       "\n",
       "       reaction_energy  \n",
       "2             -0.06394  \n",
       "3             -0.01642  \n",
       "13            -0.00731  \n",
       "14            -0.00118  \n",
       "24            -0.06775  \n",
       "...                ...  \n",
       "15759         -0.00215  \n",
       "15762          0.02162  \n",
       "15768         -0.01803  \n",
       "15788         -0.03881  \n",
       "15791          0.00826  \n",
       "\n",
       "[1607 rows x 3 columns]"
      ]
     },
     "execution_count": 119,
     "metadata": {},
     "output_type": "execute_result"
    }
   ],
   "source": [
    "lgbm_result_test1"
   ]
  },
  {
   "cell_type": "code",
   "execution_count": 120,
   "metadata": {},
   "outputs": [
    {
     "name": "stderr",
     "output_type": "stream",
     "text": [
      "C:\\Users\\PC\\Anaconda3\\lib\\site-packages\\ipykernel_launcher.py:1: SettingWithCopyWarning: \n",
      "A value is trying to be set on a copy of a slice from a DataFrame.\n",
      "Try using .loc[row_indexer,col_indexer] = value instead\n",
      "\n",
      "See the caveats in the documentation: https://pandas.pydata.org/pandas-docs/stable/user_guide/indexing.html#returning-a-view-versus-a-copy\n",
      "  \"\"\"Entry point for launching an IPython kernel.\n"
     ]
    }
   ],
   "source": [
    "lgbm_result_test1[\"pred_test1\"] = pred_test1"
   ]
  },
  {
   "cell_type": "code",
   "execution_count": 121,
   "metadata": {},
   "outputs": [
    {
     "data": {
      "text/html": [
       "<div>\n",
       "<style scoped>\n",
       "    .dataframe tbody tr th:only-of-type {\n",
       "        vertical-align: middle;\n",
       "    }\n",
       "\n",
       "    .dataframe tbody tr th {\n",
       "        vertical-align: top;\n",
       "    }\n",
       "\n",
       "    .dataframe thead th {\n",
       "        text-align: right;\n",
       "    }\n",
       "</style>\n",
       "<table border=\"1\" class=\"dataframe\">\n",
       "  <thead>\n",
       "    <tr style=\"text-align: right;\">\n",
       "      <th></th>\n",
       "      <th>reaction_id</th>\n",
       "      <th>reactant_smiles</th>\n",
       "      <th>reaction_energy</th>\n",
       "      <th>pred_test1</th>\n",
       "    </tr>\n",
       "  </thead>\n",
       "  <tbody>\n",
       "    <tr>\n",
       "      <th>2</th>\n",
       "      <td>3</td>\n",
       "      <td>O=C1CC(=O)C(C(=O)O)=C1C(=O)O</td>\n",
       "      <td>-0.06394</td>\n",
       "      <td>-0.045439</td>\n",
       "    </tr>\n",
       "    <tr>\n",
       "      <th>3</th>\n",
       "      <td>4</td>\n",
       "      <td>O=C1CC(=O)C=C1F</td>\n",
       "      <td>-0.01642</td>\n",
       "      <td>-0.013769</td>\n",
       "    </tr>\n",
       "    <tr>\n",
       "      <th>13</th>\n",
       "      <td>14</td>\n",
       "      <td>O=C1NC(=O)C=C1</td>\n",
       "      <td>-0.00731</td>\n",
       "      <td>0.001652</td>\n",
       "    </tr>\n",
       "    <tr>\n",
       "      <th>14</th>\n",
       "      <td>15</td>\n",
       "      <td>O=C1NC(=O)C(F)=C1F</td>\n",
       "      <td>-0.00118</td>\n",
       "      <td>-0.000202</td>\n",
       "    </tr>\n",
       "    <tr>\n",
       "      <th>24</th>\n",
       "      <td>25</td>\n",
       "      <td>O=C1SC(=O)C(C(=O)O)=C1C(=O)O</td>\n",
       "      <td>-0.06775</td>\n",
       "      <td>-0.047565</td>\n",
       "    </tr>\n",
       "    <tr>\n",
       "      <th>...</th>\n",
       "      <td>...</td>\n",
       "      <td>...</td>\n",
       "      <td>...</td>\n",
       "      <td>...</td>\n",
       "    </tr>\n",
       "    <tr>\n",
       "      <th>15759</th>\n",
       "      <td>15897</td>\n",
       "      <td>O=S(=O)(O)c(c1)cc(S(=O)(=O)O)c(c12)c(O)n(c2O)N...</td>\n",
       "      <td>-0.00215</td>\n",
       "      <td>0.001921</td>\n",
       "    </tr>\n",
       "    <tr>\n",
       "      <th>15762</th>\n",
       "      <td>15900</td>\n",
       "      <td>c1cccc(c12)c(O)n(c2O)N(C3=O)C(=O)c(c34)c(S(=O)...</td>\n",
       "      <td>0.02162</td>\n",
       "      <td>-0.000530</td>\n",
       "    </tr>\n",
       "    <tr>\n",
       "      <th>15768</th>\n",
       "      <td>15906</td>\n",
       "      <td>O=S(=O)(O)c(c1)c(S(=O)(=O)O)c(S(=O)(=O)O)c(c12...</td>\n",
       "      <td>-0.01803</td>\n",
       "      <td>-0.009232</td>\n",
       "    </tr>\n",
       "    <tr>\n",
       "      <th>15788</th>\n",
       "      <td>15927</td>\n",
       "      <td>O=S(=O)(O)c1ccc(S(=O)(=O)O)c(c12)c(O)n(c2O)N(C...</td>\n",
       "      <td>-0.03881</td>\n",
       "      <td>-0.010951</td>\n",
       "    </tr>\n",
       "    <tr>\n",
       "      <th>15791</th>\n",
       "      <td>15930</td>\n",
       "      <td>O=S(=O)(O)c1c(S(=O)(=O)O)c(S(=O)(=O)O)c(S(=O)(...</td>\n",
       "      <td>0.00826</td>\n",
       "      <td>-0.012238</td>\n",
       "    </tr>\n",
       "  </tbody>\n",
       "</table>\n",
       "<p>1607 rows × 4 columns</p>\n",
       "</div>"
      ],
      "text/plain": [
       "       reaction_id                                    reactant_smiles  \\\n",
       "2                3                       O=C1CC(=O)C(C(=O)O)=C1C(=O)O   \n",
       "3                4                                    O=C1CC(=O)C=C1F   \n",
       "13              14                                     O=C1NC(=O)C=C1   \n",
       "14              15                                 O=C1NC(=O)C(F)=C1F   \n",
       "24              25                       O=C1SC(=O)C(C(=O)O)=C1C(=O)O   \n",
       "...            ...                                                ...   \n",
       "15759        15897  O=S(=O)(O)c(c1)cc(S(=O)(=O)O)c(c12)c(O)n(c2O)N...   \n",
       "15762        15900  c1cccc(c12)c(O)n(c2O)N(C3=O)C(=O)c(c34)c(S(=O)...   \n",
       "15768        15906  O=S(=O)(O)c(c1)c(S(=O)(=O)O)c(S(=O)(=O)O)c(c12...   \n",
       "15788        15927  O=S(=O)(O)c1ccc(S(=O)(=O)O)c(c12)c(O)n(c2O)N(C...   \n",
       "15791        15930  O=S(=O)(O)c1c(S(=O)(=O)O)c(S(=O)(=O)O)c(S(=O)(...   \n",
       "\n",
       "       reaction_energy  pred_test1  \n",
       "2             -0.06394   -0.045439  \n",
       "3             -0.01642   -0.013769  \n",
       "13            -0.00731    0.001652  \n",
       "14            -0.00118   -0.000202  \n",
       "24            -0.06775   -0.047565  \n",
       "...                ...         ...  \n",
       "15759         -0.00215    0.001921  \n",
       "15762          0.02162   -0.000530  \n",
       "15768         -0.01803   -0.009232  \n",
       "15788         -0.03881   -0.010951  \n",
       "15791          0.00826   -0.012238  \n",
       "\n",
       "[1607 rows x 4 columns]"
      ]
     },
     "execution_count": 121,
     "metadata": {},
     "output_type": "execute_result"
    }
   ],
   "source": [
    "lgbm_result_test1"
   ]
  },
  {
   "cell_type": "code",
   "execution_count": null,
   "metadata": {},
   "outputs": [],
   "source": []
  },
  {
   "cell_type": "code",
   "execution_count": null,
   "metadata": {},
   "outputs": [],
   "source": [
    "# saving the dataframe\n",
    "#result_lgbm_test1.to_csv('result_lgbm_test1.csv')"
   ]
  },
  {
   "cell_type": "code",
   "execution_count": 122,
   "metadata": {},
   "outputs": [],
   "source": [
    "# saving the dataframe\n",
    "lgbm_result_test1.to_csv(r'.\\final_models\\lgbm_result_test1.csv', index=False)"
   ]
  },
  {
   "cell_type": "code",
   "execution_count": null,
   "metadata": {},
   "outputs": [],
   "source": []
  },
  {
   "cell_type": "markdown",
   "metadata": {},
   "source": [
    "## For Test 2"
   ]
  },
  {
   "cell_type": "code",
   "execution_count": 97,
   "metadata": {},
   "outputs": [
    {
     "data": {
      "text/plain": [
       "array([-0.01038539, -0.01016181, -0.01016181, ..., -0.0487231 ,\n",
       "       -0.04866332, -0.04986921])"
      ]
     },
     "execution_count": 97,
     "metadata": {},
     "output_type": "execute_result"
    }
   ],
   "source": [
    "pred_test2 = model.predict(test2_encoded.values)\n",
    "pred_test2"
   ]
  },
  {
   "cell_type": "code",
   "execution_count": null,
   "metadata": {},
   "outputs": [],
   "source": []
  },
  {
   "cell_type": "code",
   "execution_count": 98,
   "metadata": {},
   "outputs": [
    {
     "data": {
      "text/html": [
       "<div>\n",
       "<style scoped>\n",
       "    .dataframe tbody tr th:only-of-type {\n",
       "        vertical-align: middle;\n",
       "    }\n",
       "\n",
       "    .dataframe tbody tr th {\n",
       "        vertical-align: top;\n",
       "    }\n",
       "\n",
       "    .dataframe thead th {\n",
       "        text-align: right;\n",
       "    }\n",
       "</style>\n",
       "<table border=\"1\" class=\"dataframe\">\n",
       "  <thead>\n",
       "    <tr style=\"text-align: right;\">\n",
       "      <th></th>\n",
       "      <th>reaction_id</th>\n",
       "      <th>reactant_smiles</th>\n",
       "      <th>reaction_energy</th>\n",
       "    </tr>\n",
       "  </thead>\n",
       "  <tbody>\n",
       "    <tr>\n",
       "      <th>767</th>\n",
       "      <td>769</td>\n",
       "      <td>c1cccc(c12)cc(nn2)O</td>\n",
       "      <td>-0.01916</td>\n",
       "    </tr>\n",
       "    <tr>\n",
       "      <th>772</th>\n",
       "      <td>774</td>\n",
       "      <td>Oc1cccc(c12)cc(nn2)O</td>\n",
       "      <td>-0.01587</td>\n",
       "    </tr>\n",
       "    <tr>\n",
       "      <th>776</th>\n",
       "      <td>778</td>\n",
       "      <td>c1c(O)ccc(c12)cc(nn2)O</td>\n",
       "      <td>-0.01793</td>\n",
       "    </tr>\n",
       "    <tr>\n",
       "      <th>779</th>\n",
       "      <td>781</td>\n",
       "      <td>c1cc(O)cc(c12)cc(nn2)O</td>\n",
       "      <td>-0.01559</td>\n",
       "    </tr>\n",
       "    <tr>\n",
       "      <th>781</th>\n",
       "      <td>783</td>\n",
       "      <td>c1ccc(O)c(c12)cc(nn2)O</td>\n",
       "      <td>-0.01734</td>\n",
       "    </tr>\n",
       "    <tr>\n",
       "      <th>...</th>\n",
       "      <td>...</td>\n",
       "      <td>...</td>\n",
       "      <td>...</td>\n",
       "    </tr>\n",
       "    <tr>\n",
       "      <th>14233</th>\n",
       "      <td>14338</td>\n",
       "      <td>O=C(O)c1cc(C(=O)O)c(C(=O)O)c(c12)S/C(C2=O)=C(C...</td>\n",
       "      <td>-0.06081</td>\n",
       "    </tr>\n",
       "    <tr>\n",
       "      <th>14234</th>\n",
       "      <td>14339</td>\n",
       "      <td>O=C(O)c1c(C(=O)O)cc(C(=O)O)c(c12)S/C(C2=O)=C(C...</td>\n",
       "      <td>-0.04998</td>\n",
       "    </tr>\n",
       "    <tr>\n",
       "      <th>14235</th>\n",
       "      <td>14340</td>\n",
       "      <td>O=C(O)c1c(C(=O)O)cc(C(=O)O)c(c12)S/C(C2=O)=C(C...</td>\n",
       "      <td>-0.05763</td>\n",
       "    </tr>\n",
       "    <tr>\n",
       "      <th>14236</th>\n",
       "      <td>14341</td>\n",
       "      <td>O=C(O)c1c(C(=O)O)c(C(=O)O)cc(c12)S/C(C2=O)=C(C...</td>\n",
       "      <td>-0.05533</td>\n",
       "    </tr>\n",
       "    <tr>\n",
       "      <th>14237</th>\n",
       "      <td>14342</td>\n",
       "      <td>O=C(O)c1c(C(=O)O)c(C(=O)O)c(C(=O)O)c(c12)S/C(C...</td>\n",
       "      <td>-0.05424</td>\n",
       "    </tr>\n",
       "  </tbody>\n",
       "</table>\n",
       "<p>1480 rows × 3 columns</p>\n",
       "</div>"
      ],
      "text/plain": [
       "       reaction_id                                    reactant_smiles  \\\n",
       "767            769                                c1cccc(c12)cc(nn2)O   \n",
       "772            774                               Oc1cccc(c12)cc(nn2)O   \n",
       "776            778                             c1c(O)ccc(c12)cc(nn2)O   \n",
       "779            781                             c1cc(O)cc(c12)cc(nn2)O   \n",
       "781            783                             c1ccc(O)c(c12)cc(nn2)O   \n",
       "...            ...                                                ...   \n",
       "14233        14338  O=C(O)c1cc(C(=O)O)c(C(=O)O)c(c12)S/C(C2=O)=C(C...   \n",
       "14234        14339  O=C(O)c1c(C(=O)O)cc(C(=O)O)c(c12)S/C(C2=O)=C(C...   \n",
       "14235        14340  O=C(O)c1c(C(=O)O)cc(C(=O)O)c(c12)S/C(C2=O)=C(C...   \n",
       "14236        14341  O=C(O)c1c(C(=O)O)c(C(=O)O)cc(c12)S/C(C2=O)=C(C...   \n",
       "14237        14342  O=C(O)c1c(C(=O)O)c(C(=O)O)c(C(=O)O)c(c12)S/C(C...   \n",
       "\n",
       "       reaction_energy  \n",
       "767           -0.01916  \n",
       "772           -0.01587  \n",
       "776           -0.01793  \n",
       "779           -0.01559  \n",
       "781           -0.01734  \n",
       "...                ...  \n",
       "14233         -0.06081  \n",
       "14234         -0.04998  \n",
       "14235         -0.05763  \n",
       "14236         -0.05533  \n",
       "14237         -0.05424  \n",
       "\n",
       "[1480 rows x 3 columns]"
      ]
     },
     "execution_count": 98,
     "metadata": {},
     "output_type": "execute_result"
    }
   ],
   "source": [
    "test2_data[[\"reaction_id\", \"reactant_smiles\", \"reaction_energy\"]]"
   ]
  },
  {
   "cell_type": "code",
   "execution_count": 123,
   "metadata": {},
   "outputs": [
    {
     "data": {
      "text/html": [
       "<div>\n",
       "<style scoped>\n",
       "    .dataframe tbody tr th:only-of-type {\n",
       "        vertical-align: middle;\n",
       "    }\n",
       "\n",
       "    .dataframe tbody tr th {\n",
       "        vertical-align: top;\n",
       "    }\n",
       "\n",
       "    .dataframe thead th {\n",
       "        text-align: right;\n",
       "    }\n",
       "</style>\n",
       "<table border=\"1\" class=\"dataframe\">\n",
       "  <thead>\n",
       "    <tr style=\"text-align: right;\">\n",
       "      <th></th>\n",
       "      <th>reaction_id</th>\n",
       "      <th>reactant_smiles</th>\n",
       "      <th>reaction_energy</th>\n",
       "    </tr>\n",
       "  </thead>\n",
       "  <tbody>\n",
       "    <tr>\n",
       "      <th>767</th>\n",
       "      <td>769</td>\n",
       "      <td>c1cccc(c12)cc(nn2)O</td>\n",
       "      <td>-0.01916</td>\n",
       "    </tr>\n",
       "    <tr>\n",
       "      <th>772</th>\n",
       "      <td>774</td>\n",
       "      <td>Oc1cccc(c12)cc(nn2)O</td>\n",
       "      <td>-0.01587</td>\n",
       "    </tr>\n",
       "    <tr>\n",
       "      <th>776</th>\n",
       "      <td>778</td>\n",
       "      <td>c1c(O)ccc(c12)cc(nn2)O</td>\n",
       "      <td>-0.01793</td>\n",
       "    </tr>\n",
       "    <tr>\n",
       "      <th>779</th>\n",
       "      <td>781</td>\n",
       "      <td>c1cc(O)cc(c12)cc(nn2)O</td>\n",
       "      <td>-0.01559</td>\n",
       "    </tr>\n",
       "    <tr>\n",
       "      <th>781</th>\n",
       "      <td>783</td>\n",
       "      <td>c1ccc(O)c(c12)cc(nn2)O</td>\n",
       "      <td>-0.01734</td>\n",
       "    </tr>\n",
       "    <tr>\n",
       "      <th>...</th>\n",
       "      <td>...</td>\n",
       "      <td>...</td>\n",
       "      <td>...</td>\n",
       "    </tr>\n",
       "    <tr>\n",
       "      <th>14233</th>\n",
       "      <td>14338</td>\n",
       "      <td>O=C(O)c1cc(C(=O)O)c(C(=O)O)c(c12)S/C(C2=O)=C(C...</td>\n",
       "      <td>-0.06081</td>\n",
       "    </tr>\n",
       "    <tr>\n",
       "      <th>14234</th>\n",
       "      <td>14339</td>\n",
       "      <td>O=C(O)c1c(C(=O)O)cc(C(=O)O)c(c12)S/C(C2=O)=C(C...</td>\n",
       "      <td>-0.04998</td>\n",
       "    </tr>\n",
       "    <tr>\n",
       "      <th>14235</th>\n",
       "      <td>14340</td>\n",
       "      <td>O=C(O)c1c(C(=O)O)cc(C(=O)O)c(c12)S/C(C2=O)=C(C...</td>\n",
       "      <td>-0.05763</td>\n",
       "    </tr>\n",
       "    <tr>\n",
       "      <th>14236</th>\n",
       "      <td>14341</td>\n",
       "      <td>O=C(O)c1c(C(=O)O)c(C(=O)O)cc(c12)S/C(C2=O)=C(C...</td>\n",
       "      <td>-0.05533</td>\n",
       "    </tr>\n",
       "    <tr>\n",
       "      <th>14237</th>\n",
       "      <td>14342</td>\n",
       "      <td>O=C(O)c1c(C(=O)O)c(C(=O)O)c(C(=O)O)c(c12)S/C(C...</td>\n",
       "      <td>-0.05424</td>\n",
       "    </tr>\n",
       "  </tbody>\n",
       "</table>\n",
       "<p>1480 rows × 3 columns</p>\n",
       "</div>"
      ],
      "text/plain": [
       "       reaction_id                                    reactant_smiles  \\\n",
       "767            769                                c1cccc(c12)cc(nn2)O   \n",
       "772            774                               Oc1cccc(c12)cc(nn2)O   \n",
       "776            778                             c1c(O)ccc(c12)cc(nn2)O   \n",
       "779            781                             c1cc(O)cc(c12)cc(nn2)O   \n",
       "781            783                             c1ccc(O)c(c12)cc(nn2)O   \n",
       "...            ...                                                ...   \n",
       "14233        14338  O=C(O)c1cc(C(=O)O)c(C(=O)O)c(c12)S/C(C2=O)=C(C...   \n",
       "14234        14339  O=C(O)c1c(C(=O)O)cc(C(=O)O)c(c12)S/C(C2=O)=C(C...   \n",
       "14235        14340  O=C(O)c1c(C(=O)O)cc(C(=O)O)c(c12)S/C(C2=O)=C(C...   \n",
       "14236        14341  O=C(O)c1c(C(=O)O)c(C(=O)O)cc(c12)S/C(C2=O)=C(C...   \n",
       "14237        14342  O=C(O)c1c(C(=O)O)c(C(=O)O)c(C(=O)O)c(c12)S/C(C...   \n",
       "\n",
       "       reaction_energy  \n",
       "767           -0.01916  \n",
       "772           -0.01587  \n",
       "776           -0.01793  \n",
       "779           -0.01559  \n",
       "781           -0.01734  \n",
       "...                ...  \n",
       "14233         -0.06081  \n",
       "14234         -0.04998  \n",
       "14235         -0.05763  \n",
       "14236         -0.05533  \n",
       "14237         -0.05424  \n",
       "\n",
       "[1480 rows x 3 columns]"
      ]
     },
     "execution_count": 123,
     "metadata": {},
     "output_type": "execute_result"
    }
   ],
   "source": [
    "lgbm_result_test2 = test2_data[[\"reaction_id\", \"reactant_smiles\", \"reaction_energy\"]]\n",
    "lgbm_result_test2"
   ]
  },
  {
   "cell_type": "code",
   "execution_count": null,
   "metadata": {},
   "outputs": [],
   "source": []
  },
  {
   "cell_type": "code",
   "execution_count": 124,
   "metadata": {},
   "outputs": [
    {
     "name": "stderr",
     "output_type": "stream",
     "text": [
      "C:\\Users\\PC\\Anaconda3\\lib\\site-packages\\ipykernel_launcher.py:1: SettingWithCopyWarning: \n",
      "A value is trying to be set on a copy of a slice from a DataFrame.\n",
      "Try using .loc[row_indexer,col_indexer] = value instead\n",
      "\n",
      "See the caveats in the documentation: https://pandas.pydata.org/pandas-docs/stable/user_guide/indexing.html#returning-a-view-versus-a-copy\n",
      "  \"\"\"Entry point for launching an IPython kernel.\n"
     ]
    },
    {
     "data": {
      "text/html": [
       "<div>\n",
       "<style scoped>\n",
       "    .dataframe tbody tr th:only-of-type {\n",
       "        vertical-align: middle;\n",
       "    }\n",
       "\n",
       "    .dataframe tbody tr th {\n",
       "        vertical-align: top;\n",
       "    }\n",
       "\n",
       "    .dataframe thead th {\n",
       "        text-align: right;\n",
       "    }\n",
       "</style>\n",
       "<table border=\"1\" class=\"dataframe\">\n",
       "  <thead>\n",
       "    <tr style=\"text-align: right;\">\n",
       "      <th></th>\n",
       "      <th>reaction_id</th>\n",
       "      <th>reactant_smiles</th>\n",
       "      <th>reaction_energy</th>\n",
       "      <th>pred_test2</th>\n",
       "    </tr>\n",
       "  </thead>\n",
       "  <tbody>\n",
       "    <tr>\n",
       "      <th>767</th>\n",
       "      <td>769</td>\n",
       "      <td>c1cccc(c12)cc(nn2)O</td>\n",
       "      <td>-0.01916</td>\n",
       "      <td>-0.010385</td>\n",
       "    </tr>\n",
       "    <tr>\n",
       "      <th>772</th>\n",
       "      <td>774</td>\n",
       "      <td>Oc1cccc(c12)cc(nn2)O</td>\n",
       "      <td>-0.01587</td>\n",
       "      <td>-0.010162</td>\n",
       "    </tr>\n",
       "    <tr>\n",
       "      <th>776</th>\n",
       "      <td>778</td>\n",
       "      <td>c1c(O)ccc(c12)cc(nn2)O</td>\n",
       "      <td>-0.01793</td>\n",
       "      <td>-0.010162</td>\n",
       "    </tr>\n",
       "    <tr>\n",
       "      <th>779</th>\n",
       "      <td>781</td>\n",
       "      <td>c1cc(O)cc(c12)cc(nn2)O</td>\n",
       "      <td>-0.01559</td>\n",
       "      <td>-0.010232</td>\n",
       "    </tr>\n",
       "    <tr>\n",
       "      <th>781</th>\n",
       "      <td>783</td>\n",
       "      <td>c1ccc(O)c(c12)cc(nn2)O</td>\n",
       "      <td>-0.01734</td>\n",
       "      <td>-0.010232</td>\n",
       "    </tr>\n",
       "    <tr>\n",
       "      <th>...</th>\n",
       "      <td>...</td>\n",
       "      <td>...</td>\n",
       "      <td>...</td>\n",
       "      <td>...</td>\n",
       "    </tr>\n",
       "    <tr>\n",
       "      <th>14233</th>\n",
       "      <td>14338</td>\n",
       "      <td>O=C(O)c1cc(C(=O)O)c(C(=O)O)c(c12)S/C(C2=O)=C(C...</td>\n",
       "      <td>-0.06081</td>\n",
       "      <td>-0.050642</td>\n",
       "    </tr>\n",
       "    <tr>\n",
       "      <th>14234</th>\n",
       "      <td>14339</td>\n",
       "      <td>O=C(O)c1c(C(=O)O)cc(C(=O)O)c(c12)S/C(C2=O)=C(C...</td>\n",
       "      <td>-0.04998</td>\n",
       "      <td>-0.049104</td>\n",
       "    </tr>\n",
       "    <tr>\n",
       "      <th>14235</th>\n",
       "      <td>14340</td>\n",
       "      <td>O=C(O)c1c(C(=O)O)cc(C(=O)O)c(c12)S/C(C2=O)=C(C...</td>\n",
       "      <td>-0.05763</td>\n",
       "      <td>-0.048723</td>\n",
       "    </tr>\n",
       "    <tr>\n",
       "      <th>14236</th>\n",
       "      <td>14341</td>\n",
       "      <td>O=C(O)c1c(C(=O)O)c(C(=O)O)cc(c12)S/C(C2=O)=C(C...</td>\n",
       "      <td>-0.05533</td>\n",
       "      <td>-0.048663</td>\n",
       "    </tr>\n",
       "    <tr>\n",
       "      <th>14237</th>\n",
       "      <td>14342</td>\n",
       "      <td>O=C(O)c1c(C(=O)O)c(C(=O)O)c(C(=O)O)c(c12)S/C(C...</td>\n",
       "      <td>-0.05424</td>\n",
       "      <td>-0.049869</td>\n",
       "    </tr>\n",
       "  </tbody>\n",
       "</table>\n",
       "<p>1480 rows × 4 columns</p>\n",
       "</div>"
      ],
      "text/plain": [
       "       reaction_id                                    reactant_smiles  \\\n",
       "767            769                                c1cccc(c12)cc(nn2)O   \n",
       "772            774                               Oc1cccc(c12)cc(nn2)O   \n",
       "776            778                             c1c(O)ccc(c12)cc(nn2)O   \n",
       "779            781                             c1cc(O)cc(c12)cc(nn2)O   \n",
       "781            783                             c1ccc(O)c(c12)cc(nn2)O   \n",
       "...            ...                                                ...   \n",
       "14233        14338  O=C(O)c1cc(C(=O)O)c(C(=O)O)c(c12)S/C(C2=O)=C(C...   \n",
       "14234        14339  O=C(O)c1c(C(=O)O)cc(C(=O)O)c(c12)S/C(C2=O)=C(C...   \n",
       "14235        14340  O=C(O)c1c(C(=O)O)cc(C(=O)O)c(c12)S/C(C2=O)=C(C...   \n",
       "14236        14341  O=C(O)c1c(C(=O)O)c(C(=O)O)cc(c12)S/C(C2=O)=C(C...   \n",
       "14237        14342  O=C(O)c1c(C(=O)O)c(C(=O)O)c(C(=O)O)c(c12)S/C(C...   \n",
       "\n",
       "       reaction_energy  pred_test2  \n",
       "767           -0.01916   -0.010385  \n",
       "772           -0.01587   -0.010162  \n",
       "776           -0.01793   -0.010162  \n",
       "779           -0.01559   -0.010232  \n",
       "781           -0.01734   -0.010232  \n",
       "...                ...         ...  \n",
       "14233         -0.06081   -0.050642  \n",
       "14234         -0.04998   -0.049104  \n",
       "14235         -0.05763   -0.048723  \n",
       "14236         -0.05533   -0.048663  \n",
       "14237         -0.05424   -0.049869  \n",
       "\n",
       "[1480 rows x 4 columns]"
      ]
     },
     "execution_count": 124,
     "metadata": {},
     "output_type": "execute_result"
    }
   ],
   "source": [
    "lgbm_result_test2[\"pred_test2\"] = pred_test2\n",
    "lgbm_result_test2"
   ]
  },
  {
   "cell_type": "code",
   "execution_count": null,
   "metadata": {},
   "outputs": [],
   "source": []
  },
  {
   "cell_type": "code",
   "execution_count": null,
   "metadata": {},
   "outputs": [],
   "source": []
  },
  {
   "cell_type": "code",
   "execution_count": 125,
   "metadata": {},
   "outputs": [],
   "source": [
    "# saving the dataframe\n",
    "lgbm_result_test2.to_csv(r'.\\final_models\\lgbm_result_test2.csv', index=False)"
   ]
  },
  {
   "cell_type": "code",
   "execution_count": null,
   "metadata": {},
   "outputs": [],
   "source": []
  },
  {
   "cell_type": "code",
   "execution_count": null,
   "metadata": {},
   "outputs": [],
   "source": []
  },
  {
   "cell_type": "code",
   "execution_count": 127,
   "metadata": {},
   "outputs": [],
   "source": [
    "lgbm_result_test2= pd.read_csv(r'.\\final_models\\lgbm_result_test2.csv')"
   ]
  },
  {
   "cell_type": "code",
   "execution_count": 128,
   "metadata": {},
   "outputs": [
    {
     "data": {
      "text/html": [
       "<div>\n",
       "<style scoped>\n",
       "    .dataframe tbody tr th:only-of-type {\n",
       "        vertical-align: middle;\n",
       "    }\n",
       "\n",
       "    .dataframe tbody tr th {\n",
       "        vertical-align: top;\n",
       "    }\n",
       "\n",
       "    .dataframe thead th {\n",
       "        text-align: right;\n",
       "    }\n",
       "</style>\n",
       "<table border=\"1\" class=\"dataframe\">\n",
       "  <thead>\n",
       "    <tr style=\"text-align: right;\">\n",
       "      <th></th>\n",
       "      <th>reaction_id</th>\n",
       "      <th>reactant_smiles</th>\n",
       "      <th>reaction_energy</th>\n",
       "      <th>pred_test2</th>\n",
       "    </tr>\n",
       "  </thead>\n",
       "  <tbody>\n",
       "    <tr>\n",
       "      <th>0</th>\n",
       "      <td>769</td>\n",
       "      <td>c1cccc(c12)cc(nn2)O</td>\n",
       "      <td>-0.01916</td>\n",
       "      <td>-0.010385</td>\n",
       "    </tr>\n",
       "    <tr>\n",
       "      <th>1</th>\n",
       "      <td>774</td>\n",
       "      <td>Oc1cccc(c12)cc(nn2)O</td>\n",
       "      <td>-0.01587</td>\n",
       "      <td>-0.010162</td>\n",
       "    </tr>\n",
       "    <tr>\n",
       "      <th>2</th>\n",
       "      <td>778</td>\n",
       "      <td>c1c(O)ccc(c12)cc(nn2)O</td>\n",
       "      <td>-0.01793</td>\n",
       "      <td>-0.010162</td>\n",
       "    </tr>\n",
       "    <tr>\n",
       "      <th>3</th>\n",
       "      <td>781</td>\n",
       "      <td>c1cc(O)cc(c12)cc(nn2)O</td>\n",
       "      <td>-0.01559</td>\n",
       "      <td>-0.010232</td>\n",
       "    </tr>\n",
       "    <tr>\n",
       "      <th>4</th>\n",
       "      <td>783</td>\n",
       "      <td>c1ccc(O)c(c12)cc(nn2)O</td>\n",
       "      <td>-0.01734</td>\n",
       "      <td>-0.010232</td>\n",
       "    </tr>\n",
       "    <tr>\n",
       "      <th>...</th>\n",
       "      <td>...</td>\n",
       "      <td>...</td>\n",
       "      <td>...</td>\n",
       "      <td>...</td>\n",
       "    </tr>\n",
       "    <tr>\n",
       "      <th>1475</th>\n",
       "      <td>14338</td>\n",
       "      <td>O=C(O)c1cc(C(=O)O)c(C(=O)O)c(c12)S/C(C2=O)=C(C...</td>\n",
       "      <td>-0.06081</td>\n",
       "      <td>-0.050642</td>\n",
       "    </tr>\n",
       "    <tr>\n",
       "      <th>1476</th>\n",
       "      <td>14339</td>\n",
       "      <td>O=C(O)c1c(C(=O)O)cc(C(=O)O)c(c12)S/C(C2=O)=C(C...</td>\n",
       "      <td>-0.04998</td>\n",
       "      <td>-0.049104</td>\n",
       "    </tr>\n",
       "    <tr>\n",
       "      <th>1477</th>\n",
       "      <td>14340</td>\n",
       "      <td>O=C(O)c1c(C(=O)O)cc(C(=O)O)c(c12)S/C(C2=O)=C(C...</td>\n",
       "      <td>-0.05763</td>\n",
       "      <td>-0.048723</td>\n",
       "    </tr>\n",
       "    <tr>\n",
       "      <th>1478</th>\n",
       "      <td>14341</td>\n",
       "      <td>O=C(O)c1c(C(=O)O)c(C(=O)O)cc(c12)S/C(C2=O)=C(C...</td>\n",
       "      <td>-0.05533</td>\n",
       "      <td>-0.048663</td>\n",
       "    </tr>\n",
       "    <tr>\n",
       "      <th>1479</th>\n",
       "      <td>14342</td>\n",
       "      <td>O=C(O)c1c(C(=O)O)c(C(=O)O)c(C(=O)O)c(c12)S/C(C...</td>\n",
       "      <td>-0.05424</td>\n",
       "      <td>-0.049869</td>\n",
       "    </tr>\n",
       "  </tbody>\n",
       "</table>\n",
       "<p>1480 rows × 4 columns</p>\n",
       "</div>"
      ],
      "text/plain": [
       "      reaction_id                                    reactant_smiles  \\\n",
       "0             769                                c1cccc(c12)cc(nn2)O   \n",
       "1             774                               Oc1cccc(c12)cc(nn2)O   \n",
       "2             778                             c1c(O)ccc(c12)cc(nn2)O   \n",
       "3             781                             c1cc(O)cc(c12)cc(nn2)O   \n",
       "4             783                             c1ccc(O)c(c12)cc(nn2)O   \n",
       "...           ...                                                ...   \n",
       "1475        14338  O=C(O)c1cc(C(=O)O)c(C(=O)O)c(c12)S/C(C2=O)=C(C...   \n",
       "1476        14339  O=C(O)c1c(C(=O)O)cc(C(=O)O)c(c12)S/C(C2=O)=C(C...   \n",
       "1477        14340  O=C(O)c1c(C(=O)O)cc(C(=O)O)c(c12)S/C(C2=O)=C(C...   \n",
       "1478        14341  O=C(O)c1c(C(=O)O)c(C(=O)O)cc(c12)S/C(C2=O)=C(C...   \n",
       "1479        14342  O=C(O)c1c(C(=O)O)c(C(=O)O)c(C(=O)O)c(c12)S/C(C...   \n",
       "\n",
       "      reaction_energy  pred_test2  \n",
       "0            -0.01916   -0.010385  \n",
       "1            -0.01587   -0.010162  \n",
       "2            -0.01793   -0.010162  \n",
       "3            -0.01559   -0.010232  \n",
       "4            -0.01734   -0.010232  \n",
       "...               ...         ...  \n",
       "1475         -0.06081   -0.050642  \n",
       "1476         -0.04998   -0.049104  \n",
       "1477         -0.05763   -0.048723  \n",
       "1478         -0.05533   -0.048663  \n",
       "1479         -0.05424   -0.049869  \n",
       "\n",
       "[1480 rows x 4 columns]"
      ]
     },
     "execution_count": 128,
     "metadata": {},
     "output_type": "execute_result"
    }
   ],
   "source": [
    "lgbm_result_test2"
   ]
  },
  {
   "cell_type": "code",
   "execution_count": null,
   "metadata": {},
   "outputs": [],
   "source": []
  },
  {
   "cell_type": "code",
   "execution_count": null,
   "metadata": {},
   "outputs": [],
   "source": []
  },
  {
   "cell_type": "code",
   "execution_count": null,
   "metadata": {},
   "outputs": [],
   "source": []
  },
  {
   "cell_type": "code",
   "execution_count": null,
   "metadata": {},
   "outputs": [],
   "source": []
  },
  {
   "cell_type": "code",
   "execution_count": null,
   "metadata": {},
   "outputs": [],
   "source": []
  },
  {
   "cell_type": "code",
   "execution_count": null,
   "metadata": {},
   "outputs": [],
   "source": []
  },
  {
   "cell_type": "code",
   "execution_count": null,
   "metadata": {},
   "outputs": [],
   "source": []
  },
  {
   "cell_type": "markdown",
   "metadata": {},
   "source": [
    "# Save the model"
   ]
  },
  {
   "cell_type": "code",
   "execution_count": null,
   "metadata": {},
   "outputs": [],
   "source": []
  },
  {
   "cell_type": "code",
   "execution_count": null,
   "metadata": {},
   "outputs": [],
   "source": []
  },
  {
   "cell_type": "code",
   "execution_count": 106,
   "metadata": {},
   "outputs": [
    {
     "data": {
      "text/plain": [
       "LGBMRegressor(lambda_l2=0.2, max_depth=7, random_state=1)"
      ]
     },
     "execution_count": 106,
     "metadata": {},
     "output_type": "execute_result"
    }
   ],
   "source": [
    "model"
   ]
  },
  {
   "cell_type": "code",
   "execution_count": 107,
   "metadata": {},
   "outputs": [
    {
     "data": {
      "text/plain": [
       "array([-0.04543877, -0.01376934,  0.00165234, ..., -0.00923236,\n",
       "       -0.01095121, -0.01223837])"
      ]
     },
     "execution_count": 107,
     "metadata": {},
     "output_type": "execute_result"
    }
   ],
   "source": [
    "pred_test1 = model.predict(test1_encoded.values)\n",
    "pred_test1"
   ]
  },
  {
   "cell_type": "code",
   "execution_count": null,
   "metadata": {},
   "outputs": [],
   "source": []
  },
  {
   "cell_type": "code",
   "execution_count": null,
   "metadata": {},
   "outputs": [],
   "source": []
  },
  {
   "cell_type": "code",
   "execution_count": 108,
   "metadata": {},
   "outputs": [],
   "source": [
    "#model.booster_.save_model('final_lgbm_model.txt')"
   ]
  },
  {
   "cell_type": "code",
   "execution_count": 109,
   "metadata": {},
   "outputs": [],
   "source": [
    "#model.booster_.save_model(r'C:\\Users\\PC\\Desktop\\DIFFER\\Projects\\REDDB-ML\\REDDB-ML-dev-main\\Code\\prediction\\final_models\\final_lgbm_model.txt')\n",
    "# Same with below"
   ]
  },
  {
   "cell_type": "code",
   "execution_count": 129,
   "metadata": {},
   "outputs": [
    {
     "data": {
      "text/plain": [
       "<lightgbm.basic.Booster at 0x2b6138d4788>"
      ]
     },
     "execution_count": 129,
     "metadata": {},
     "output_type": "execute_result"
    }
   ],
   "source": [
    "model.booster_.save_model(r'.\\final_models\\lgbm_final_model.txt')"
   ]
  },
  {
   "cell_type": "code",
   "execution_count": null,
   "metadata": {},
   "outputs": [],
   "source": []
  },
  {
   "cell_type": "code",
   "execution_count": null,
   "metadata": {},
   "outputs": [],
   "source": []
  },
  {
   "cell_type": "markdown",
   "metadata": {},
   "source": [
    "#### Read Saved model "
   ]
  },
  {
   "cell_type": "code",
   "execution_count": null,
   "metadata": {},
   "outputs": [],
   "source": []
  },
  {
   "cell_type": "code",
   "execution_count": 130,
   "metadata": {},
   "outputs": [],
   "source": [
    "lgbm_final_model = lgbm.Booster(model_file= r'.\\final_models\\lgbm_final_model.txt')"
   ]
  },
  {
   "cell_type": "code",
   "execution_count": 131,
   "metadata": {},
   "outputs": [
    {
     "data": {
      "text/plain": [
       "<lightgbm.basic.Booster at 0x2b613f03bc8>"
      ]
     },
     "execution_count": 131,
     "metadata": {},
     "output_type": "execute_result"
    }
   ],
   "source": [
    "lgbm_final_model"
   ]
  },
  {
   "cell_type": "code",
   "execution_count": 132,
   "metadata": {},
   "outputs": [
    {
     "data": {
      "text/plain": [
       "array([-0.04543877, -0.01376934,  0.00165234, ..., -0.00923236,\n",
       "       -0.01095121, -0.01223837])"
      ]
     },
     "execution_count": 132,
     "metadata": {},
     "output_type": "execute_result"
    }
   ],
   "source": [
    "s_pred_test1 = lgbm_final_model.predict(test1_encoded.values)\n",
    "s_pred_test1"
   ]
  },
  {
   "cell_type": "code",
   "execution_count": null,
   "metadata": {},
   "outputs": [],
   "source": []
  },
  {
   "cell_type": "code",
   "execution_count": null,
   "metadata": {},
   "outputs": [],
   "source": []
  },
  {
   "cell_type": "code",
   "execution_count": null,
   "metadata": {},
   "outputs": [],
   "source": []
  },
  {
   "cell_type": "code",
   "execution_count": null,
   "metadata": {},
   "outputs": [],
   "source": []
  },
  {
   "cell_type": "code",
   "execution_count": null,
   "metadata": {},
   "outputs": [],
   "source": []
  },
  {
   "cell_type": "code",
   "execution_count": null,
   "metadata": {},
   "outputs": [],
   "source": []
  },
  {
   "cell_type": "code",
   "execution_count": null,
   "metadata": {},
   "outputs": [],
   "source": []
  }
 ],
 "metadata": {
  "kernelspec": {
   "display_name": "Python 3",
   "language": "python",
   "name": "python3"
  },
  "language_info": {
   "codemirror_mode": {
    "name": "ipython",
    "version": 3
   },
   "file_extension": ".py",
   "mimetype": "text/x-python",
   "name": "python",
   "nbconvert_exporter": "python",
   "pygments_lexer": "ipython3",
   "version": "3.7.9"
  }
 },
 "nbformat": 4,
 "nbformat_minor": 4
}
